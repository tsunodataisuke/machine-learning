{
 "cells": [
  {
   "cell_type": "markdown",
   "metadata": {},
   "source": [
    "# ディープラーニング\n",
    "### 手書き数字の判読"
   ]
  },
  {
   "cell_type": "code",
   "execution_count": 1,
   "metadata": {},
   "outputs": [],
   "source": [
    "import warnings\n",
    "warnings.filterwarnings('ignore')"
   ]
  },
  {
   "cell_type": "code",
   "execution_count": 2,
   "metadata": {},
   "outputs": [],
   "source": [
    "import numpy as np\n",
    "import matplotlib.pyplot as plt\n",
    "import pandas as pd\n",
    "\n",
    "from tensorflow import keras\n",
    "from tensorflow.keras.layers import Dense, Activation\n",
    "\n",
    "from sklearn.model_selection import train_test_split\n",
    "\n",
    "from sklearn import datasets\n",
    "\n",
    "%matplotlib inline\n",
    "pd.options.display.max_columns = None"
   ]
  },
  {
   "cell_type": "code",
   "execution_count": 3,
   "metadata": {},
   "outputs": [],
   "source": [
    "digits = datasets.load_digits()"
   ]
  },
  {
   "cell_type": "code",
   "execution_count": 4,
   "metadata": {},
   "outputs": [],
   "source": [
    "Y = np.array(digits['target'])\n",
    "X = np.array(digits['data'])"
   ]
  },
  {
   "cell_type": "code",
   "execution_count": 5,
   "metadata": {},
   "outputs": [
    {
     "name": "stdout",
     "output_type": "stream",
     "text": [
      "(1797,)\n",
      "(1797, 64)\n"
     ]
    }
   ],
   "source": [
    "print(Y.shape)\n",
    "print(X.shape)"
   ]
  },
  {
   "cell_type": "code",
   "execution_count": 6,
   "metadata": {},
   "outputs": [],
   "source": [
    "# カテゴリー変数への展開\n",
    "from tensorflow.keras.utils import to_categorical\n",
    "\n",
    "Y = to_categorical(Y)"
   ]
  },
  {
   "cell_type": "code",
   "execution_count": 7,
   "metadata": {},
   "outputs": [
    {
     "name": "stdout",
     "output_type": "stream",
     "text": [
      "(1797, 10)\n",
      "(1797, 64)\n"
     ]
    }
   ],
   "source": [
    "print(Y.shape)\n",
    "print(X.shape)"
   ]
  },
  {
   "cell_type": "markdown",
   "metadata": {},
   "source": [
    "## モデルの構築(全結合層)"
   ]
  },
  {
   "cell_type": "code",
   "execution_count": 8,
   "metadata": {},
   "outputs": [
    {
     "data": {
      "text/plain": [
       "array([ 0.,  0.,  5., 13.,  9.,  1.,  0.,  0.,  0.,  0., 13., 15., 10.,\n",
       "       15.,  5.,  0.,  0.,  3., 15.,  2.,  0., 11.,  8.,  0.,  0.,  4.,\n",
       "       12.,  0.,  0.,  8.,  8.,  0.,  0.,  5.,  8.,  0.,  0.,  9.,  8.,\n",
       "        0.,  0.,  4., 11.,  0.,  1., 12.,  7.,  0.,  0.,  2., 14.,  5.,\n",
       "       10., 12.,  0.,  0.,  0.,  0.,  6., 13., 10.,  0.,  0.,  0.])"
      ]
     },
     "execution_count": 8,
     "metadata": {},
     "output_type": "execute_result"
    }
   ],
   "source": [
    "# 説明変数の例\n",
    "X[0]"
   ]
  },
  {
   "cell_type": "code",
   "execution_count": 9,
   "metadata": {},
   "outputs": [
    {
     "data": {
      "text/plain": [
       "<matplotlib.image.AxesImage at 0x7f3cab719e50>"
      ]
     },
     "execution_count": 9,
     "metadata": {},
     "output_type": "execute_result"
    },
    {
     "data": {
      "image/png": "[encoded data removed]",
      "text/plain": [
       "<Figure size 432x288 with 1 Axes>"
      ]
     },
     "metadata": {
      "needs_background": "light"
     },
     "output_type": "display_data"
    }
   ],
   "source": [
    "# 本来の姿\n",
    "plt.imshow(X[0].reshape(8, 8), cmap='Greys')"
   ]
  },
  {
   "cell_type": "code",
   "execution_count": 10,
   "metadata": {},
   "outputs": [],
   "source": [
    "X_train, X_test, Y_train, Y_test = train_test_split(X, Y, test_size=0.3, random_state=0)\n",
    "X_train, X_valid, Y_train, Y_valid = train_test_split(X_train, Y_train, test_size=0.3, random_state=0)"
   ]
  },
  {
   "cell_type": "code",
   "execution_count": 11,
   "metadata": {},
   "outputs": [
    {
     "name": "stdout",
     "output_type": "stream",
     "text": [
      "Y_train= (879, 10) , X_train= (879, 64)\n",
      "Y_valid= (378, 10) , X_valid= (378, 64)\n",
      "Y_test= (540, 10) , X_test= (540, 64)\n"
     ]
    }
   ],
   "source": [
    "print(\"Y_train=\", Y_train.shape, \", X_train=\", X_train.shape)\n",
    "print(\"Y_valid=\", Y_valid.shape, \", X_valid=\", X_valid.shape)\n",
    "print(\"Y_test=\", Y_test.shape, \", X_test=\", X_test.shape)"
   ]
  },
  {
   "cell_type": "code",
   "execution_count": 12,
   "metadata": {},
   "outputs": [
    {
     "name": "stderr",
     "output_type": "stream",
     "text": [
      "2022-03-22 01:03:48.852020: W tensorflow/stream_executor/platform/default/dso_loader.cc:55] Could not load dynamic library 'libcuda.so.1'; dlerror: libcuda.so.1: cannot open shared object file: No such file or directory\n",
      "2022-03-22 01:03:48.852064: E tensorflow/stream_executor/cuda/cuda_driver.cc:313] failed call to cuInit: UNKNOWN ERROR (303)\n",
      "2022-03-22 01:03:48.852086: I tensorflow/stream_executor/cuda/cuda_diagnostics.cc:156] kernel driver does not appear to be running on this host (ip-172-31-10-220): /proc/driver/nvidia/version does not exist\n",
      "2022-03-22 01:03:48.852279: I tensorflow/core/platform/cpu_feature_guard.cc:143] Your CPU supports instructions that this TensorFlow binary was not compiled to use: AVX2 FMA\n",
      "2022-03-22 01:03:48.858960: I tensorflow/core/platform/profile_utils/cpu_utils.cc:102] CPU Frequency: 2300015000 Hz\n",
      "2022-03-22 01:03:48.859232: I tensorflow/compiler/xla/service/service.cc:168] XLA service 0x7f3c84000b20 initialized for platform Host (this does not guarantee that XLA will be used). Devices:\n",
      "2022-03-22 01:03:48.859253: I tensorflow/compiler/xla/service/service.cc:176]   StreamExecutor device (0): Host, Default Version\n"
     ]
    }
   ],
   "source": [
    "model = keras.Sequential()\n",
    "\n",
    "model.add(Dense(16, activation='relu', input_shape=(64,)))\n",
    "model.add(Dense(16, activation='relu'))\n",
    "model.add(Dense(10, activation='softmax'))\n",
    "\n",
    "model.compile(optimizer = \"rmsprop\", loss='categorical_crossentropy', metrics=['accuracy'])"
   ]
  },
  {
   "cell_type": "code",
   "execution_count": 13,
   "metadata": {},
   "outputs": [
    {
     "name": "stdout",
     "output_type": "stream",
     "text": [
      "Model: \"sequential\"\n",
      "_________________________________________________________________\n",
      "Layer (type)                 Output Shape              Param #   \n",
      "=================================================================\n",
      "dense (Dense)                (None, 16)                1040      \n",
      "_________________________________________________________________\n",
      "dense_1 (Dense)              (None, 16)                272       \n",
      "_________________________________________________________________\n",
      "dense_2 (Dense)              (None, 10)                170       \n",
      "=================================================================\n",
      "Total params: 1,482\n",
      "Trainable params: 1,482\n",
      "Non-trainable params: 0\n",
      "_________________________________________________________________\n"
     ]
    }
   ],
   "source": [
    "model.summary()"
   ]
  },
  {
   "cell_type": "markdown",
   "metadata": {},
   "source": [
    "## 学習の実施(全結合層)"
   ]
  },
  {
   "cell_type": "code",
   "execution_count": 14,
   "metadata": {},
   "outputs": [
    {
     "name": "stdout",
     "output_type": "stream",
     "text": [
      "Epoch 1/5000\n",
      "28/28 [==============================] - 0s 8ms/step - loss: 3.9083 - accuracy: 0.1490 - val_loss: 2.7703 - val_accuracy: 0.2381\n",
      "Epoch 2/5000\n",
      "28/28 [==============================] - 0s 2ms/step - loss: 2.2278 - accuracy: 0.3515 - val_loss: 1.9953 - val_accuracy: 0.3360\n",
      "Epoch 3/5000\n",
      "28/28 [==============================] - 0s 2ms/step - loss: 1.7080 - accuracy: 0.4551 - val_loss: 1.6195 - val_accuracy: 0.4630\n",
      "Epoch 4/5000\n",
      "28/28 [==============================] - 0s 2ms/step - loss: 1.3191 - accuracy: 0.5791 - val_loss: 1.3061 - val_accuracy: 0.5635\n",
      "Epoch 5/5000\n",
      "28/28 [==============================] - 0s 2ms/step - loss: 1.0253 - accuracy: 0.6769 - val_loss: 1.0371 - val_accuracy: 0.6693\n",
      "Epoch 6/5000\n",
      "28/28 [==============================] - 0s 2ms/step - loss: 0.8237 - accuracy: 0.7497 - val_loss: 0.9059 - val_accuracy: 0.6852\n",
      "Epoch 7/5000\n",
      "28/28 [==============================] - 0s 2ms/step - loss: 0.6792 - accuracy: 0.7918 - val_loss: 0.7608 - val_accuracy: 0.7381\n",
      "Epoch 8/5000\n",
      "28/28 [==============================] - 0s 2ms/step - loss: 0.5727 - accuracy: 0.8225 - val_loss: 0.6496 - val_accuracy: 0.7857\n",
      "Epoch 9/5000\n",
      "28/28 [==============================] - 0s 2ms/step - loss: 0.4755 - accuracy: 0.8544 - val_loss: 0.5737 - val_accuracy: 0.8148\n",
      "Epoch 10/5000\n",
      "28/28 [==============================] - 0s 3ms/step - loss: 0.4110 - accuracy: 0.8749 - val_loss: 0.5090 - val_accuracy: 0.8280\n",
      "Epoch 11/5000\n",
      "28/28 [==============================] - 0s 2ms/step - loss: 0.3480 - accuracy: 0.8942 - val_loss: 0.4606 - val_accuracy: 0.8386\n",
      "Epoch 12/5000\n",
      "28/28 [==============================] - 0s 2ms/step - loss: 0.3058 - accuracy: 0.9044 - val_loss: 0.4468 - val_accuracy: 0.8413\n",
      "Epoch 13/5000\n",
      "28/28 [==============================] - 0s 2ms/step - loss: 0.2713 - accuracy: 0.9215 - val_loss: 0.3494 - val_accuracy: 0.8810\n",
      "Epoch 14/5000\n",
      "28/28 [==============================] - 0s 2ms/step - loss: 0.2435 - accuracy: 0.9329 - val_loss: 0.3708 - val_accuracy: 0.8783\n",
      "Epoch 15/5000\n",
      "28/28 [==============================] - 0s 2ms/step - loss: 0.2173 - accuracy: 0.9363 - val_loss: 0.3077 - val_accuracy: 0.9101\n",
      "Epoch 16/5000\n",
      "28/28 [==============================] - 0s 2ms/step - loss: 0.1939 - accuracy: 0.9443 - val_loss: 0.2927 - val_accuracy: 0.9074\n",
      "Epoch 17/5000\n",
      "28/28 [==============================] - 0s 2ms/step - loss: 0.1721 - accuracy: 0.9465 - val_loss: 0.2838 - val_accuracy: 0.9021\n",
      "Epoch 18/5000\n",
      "28/28 [==============================] - 0s 2ms/step - loss: 0.1556 - accuracy: 0.9534 - val_loss: 0.2609 - val_accuracy: 0.9153\n",
      "Epoch 19/5000\n",
      "28/28 [==============================] - 0s 3ms/step - loss: 0.1397 - accuracy: 0.9590 - val_loss: 0.2600 - val_accuracy: 0.9048\n",
      "Epoch 20/5000\n",
      "28/28 [==============================] - 0s 2ms/step - loss: 0.1253 - accuracy: 0.9670 - val_loss: 0.2679 - val_accuracy: 0.9233\n",
      "Epoch 21/5000\n",
      "28/28 [==============================] - 0s 2ms/step - loss: 0.1126 - accuracy: 0.9670 - val_loss: 0.2694 - val_accuracy: 0.9021\n",
      "Epoch 22/5000\n",
      "28/28 [==============================] - 0s 2ms/step - loss: 0.1042 - accuracy: 0.9693 - val_loss: 0.2405 - val_accuracy: 0.9286\n",
      "Epoch 23/5000\n",
      "28/28 [==============================] - 0s 2ms/step - loss: 0.0907 - accuracy: 0.9772 - val_loss: 0.2252 - val_accuracy: 0.9206\n",
      "Epoch 24/5000\n",
      "28/28 [==============================] - 0s 2ms/step - loss: 0.0857 - accuracy: 0.9772 - val_loss: 0.2283 - val_accuracy: 0.9286\n",
      "Epoch 25/5000\n",
      "28/28 [==============================] - 0s 2ms/step - loss: 0.0767 - accuracy: 0.9807 - val_loss: 0.2212 - val_accuracy: 0.9339\n",
      "Epoch 26/5000\n",
      "28/28 [==============================] - 0s 2ms/step - loss: 0.0718 - accuracy: 0.9784 - val_loss: 0.2105 - val_accuracy: 0.9206\n",
      "Epoch 27/5000\n",
      "28/28 [==============================] - 0s 2ms/step - loss: 0.0609 - accuracy: 0.9829 - val_loss: 0.2091 - val_accuracy: 0.9339\n",
      "Epoch 28/5000\n",
      "28/28 [==============================] - 0s 3ms/step - loss: 0.0619 - accuracy: 0.9818 - val_loss: 0.1980 - val_accuracy: 0.9339\n",
      "Epoch 29/5000\n",
      "28/28 [==============================] - 0s 2ms/step - loss: 0.0548 - accuracy: 0.9841 - val_loss: 0.2007 - val_accuracy: 0.9339\n",
      "Epoch 30/5000\n",
      "28/28 [==============================] - 0s 2ms/step - loss: 0.0488 - accuracy: 0.9863 - val_loss: 0.2016 - val_accuracy: 0.9286\n",
      "Epoch 31/5000\n",
      "28/28 [==============================] - 0s 2ms/step - loss: 0.0443 - accuracy: 0.9886 - val_loss: 0.1998 - val_accuracy: 0.9339\n",
      "Epoch 32/5000\n",
      "28/28 [==============================] - 0s 2ms/step - loss: 0.0384 - accuracy: 0.9932 - val_loss: 0.2070 - val_accuracy: 0.9312\n",
      "Epoch 33/5000\n",
      "28/28 [==============================] - 0s 2ms/step - loss: 0.0391 - accuracy: 0.9886 - val_loss: 0.1790 - val_accuracy: 0.9365\n",
      "Epoch 34/5000\n",
      "28/28 [==============================] - 0s 2ms/step - loss: 0.0357 - accuracy: 0.9898 - val_loss: 0.1816 - val_accuracy: 0.9392\n",
      "Epoch 35/5000\n",
      "28/28 [==============================] - 0s 2ms/step - loss: 0.0324 - accuracy: 0.9875 - val_loss: 0.1926 - val_accuracy: 0.9365\n",
      "Epoch 36/5000\n",
      "28/28 [==============================] - 0s 2ms/step - loss: 0.0341 - accuracy: 0.9920 - val_loss: 0.1887 - val_accuracy: 0.9365\n",
      "Epoch 37/5000\n",
      "28/28 [==============================] - 0s 3ms/step - loss: 0.0265 - accuracy: 0.9954 - val_loss: 0.1958 - val_accuracy: 0.9392\n",
      "Epoch 38/5000\n",
      "28/28 [==============================] - 0s 2ms/step - loss: 0.0234 - accuracy: 0.9954 - val_loss: 0.2058 - val_accuracy: 0.9392\n",
      "Epoch 39/5000\n",
      "28/28 [==============================] - 0s 2ms/step - loss: 0.0237 - accuracy: 0.9966 - val_loss: 0.2132 - val_accuracy: 0.9233\n",
      "Epoch 40/5000\n",
      "28/28 [==============================] - 0s 2ms/step - loss: 0.0207 - accuracy: 0.9989 - val_loss: 0.1864 - val_accuracy: 0.9339\n",
      "Epoch 41/5000\n",
      "28/28 [==============================] - 0s 2ms/step - loss: 0.0214 - accuracy: 0.9966 - val_loss: 0.1779 - val_accuracy: 0.9312\n",
      "Epoch 42/5000\n",
      "28/28 [==============================] - 0s 2ms/step - loss: 0.0168 - accuracy: 0.9989 - val_loss: 0.1837 - val_accuracy: 0.9392\n",
      "Epoch 43/5000\n",
      "28/28 [==============================] - 0s 2ms/step - loss: 0.0163 - accuracy: 0.9989 - val_loss: 0.1908 - val_accuracy: 0.9444\n",
      "Epoch 44/5000\n",
      "28/28 [==============================] - 0s 2ms/step - loss: 0.0126 - accuracy: 1.0000 - val_loss: 0.2087 - val_accuracy: 0.9339\n",
      "Epoch 45/5000\n",
      "28/28 [==============================] - 0s 2ms/step - loss: 0.0136 - accuracy: 0.9989 - val_loss: 0.1836 - val_accuracy: 0.9365\n",
      "Epoch 46/5000\n",
      "28/28 [==============================] - 0s 3ms/step - loss: 0.0143 - accuracy: 0.9977 - val_loss: 0.1982 - val_accuracy: 0.9339\n",
      "Epoch 47/5000\n",
      "28/28 [==============================] - 0s 2ms/step - loss: 0.0107 - accuracy: 1.0000 - val_loss: 0.2040 - val_accuracy: 0.9339\n",
      "Epoch 48/5000\n",
      "28/28 [==============================] - 0s 2ms/step - loss: 0.0096 - accuracy: 1.0000 - val_loss: 0.2158 - val_accuracy: 0.9312\n",
      "Epoch 49/5000\n",
      "28/28 [==============================] - 0s 2ms/step - loss: 0.0083 - accuracy: 1.0000 - val_loss: 0.1835 - val_accuracy: 0.9392\n",
      "Epoch 50/5000\n",
      "28/28 [==============================] - 0s 2ms/step - loss: 0.0086 - accuracy: 0.9989 - val_loss: 0.1952 - val_accuracy: 0.9444\n",
      "Epoch 51/5000\n",
      "28/28 [==============================] - 0s 2ms/step - loss: 0.0067 - accuracy: 1.0000 - val_loss: 0.2096 - val_accuracy: 0.9286\n",
      "Epoch 52/5000\n",
      "28/28 [==============================] - 0s 2ms/step - loss: 0.0066 - accuracy: 1.0000 - val_loss: 0.2262 - val_accuracy: 0.9339\n",
      "Epoch 53/5000\n",
      "28/28 [==============================] - 0s 2ms/step - loss: 0.0060 - accuracy: 1.0000 - val_loss: 0.1945 - val_accuracy: 0.9392\n",
      "Epoch 54/5000\n",
      "28/28 [==============================] - 0s 2ms/step - loss: 0.0051 - accuracy: 1.0000 - val_loss: 0.1850 - val_accuracy: 0.9418\n",
      "Epoch 55/5000\n",
      "28/28 [==============================] - 0s 3ms/step - loss: 0.0043 - accuracy: 1.0000 - val_loss: 0.2013 - val_accuracy: 0.9339\n",
      "Epoch 56/5000\n",
      "28/28 [==============================] - 0s 2ms/step - loss: 0.0042 - accuracy: 1.0000 - val_loss: 0.1701 - val_accuracy: 0.9444\n",
      "Epoch 57/5000\n",
      "28/28 [==============================] - 0s 2ms/step - loss: 0.0037 - accuracy: 1.0000 - val_loss: 0.1863 - val_accuracy: 0.9312\n",
      "Epoch 58/5000\n",
      "28/28 [==============================] - 0s 2ms/step - loss: 0.0041 - accuracy: 0.9989 - val_loss: 0.1990 - val_accuracy: 0.9365\n",
      "Epoch 59/5000\n",
      "28/28 [==============================] - 0s 2ms/step - loss: 0.0045 - accuracy: 0.9989 - val_loss: 0.1997 - val_accuracy: 0.9392\n",
      "Epoch 60/5000\n",
      "28/28 [==============================] - 0s 2ms/step - loss: 0.0021 - accuracy: 1.0000 - val_loss: 0.2008 - val_accuracy: 0.9418\n",
      "Epoch 61/5000\n",
      "28/28 [==============================] - 0s 2ms/step - loss: 0.0028 - accuracy: 1.0000 - val_loss: 0.2080 - val_accuracy: 0.9471\n",
      "Epoch 62/5000\n",
      "28/28 [==============================] - 0s 2ms/step - loss: 0.0025 - accuracy: 1.0000 - val_loss: 0.1939 - val_accuracy: 0.9418\n",
      "Epoch 63/5000\n",
      "28/28 [==============================] - 0s 2ms/step - loss: 0.0016 - accuracy: 1.0000 - val_loss: 0.2022 - val_accuracy: 0.9365\n",
      "Epoch 64/5000\n",
      "28/28 [==============================] - 0s 3ms/step - loss: 0.0022 - accuracy: 1.0000 - val_loss: 0.1953 - val_accuracy: 0.9497\n",
      "Epoch 65/5000\n",
      "28/28 [==============================] - 0s 2ms/step - loss: 0.0013 - accuracy: 1.0000 - val_loss: 0.1870 - val_accuracy: 0.9365\n",
      "Epoch 66/5000\n",
      "28/28 [==============================] - 0s 2ms/step - loss: 0.0019 - accuracy: 1.0000 - val_loss: 0.1871 - val_accuracy: 0.9365\n",
      "Epoch 67/5000\n",
      "28/28 [==============================] - 0s 2ms/step - loss: 0.0012 - accuracy: 1.0000 - val_loss: 0.1911 - val_accuracy: 0.9365\n",
      "Epoch 68/5000\n",
      "28/28 [==============================] - 0s 2ms/step - loss: 0.0011 - accuracy: 1.0000 - val_loss: 0.1882 - val_accuracy: 0.9365\n",
      "Epoch 69/5000\n",
      "28/28 [==============================] - 0s 2ms/step - loss: 9.8401e-04 - accuracy: 1.0000 - val_loss: 0.2161 - val_accuracy: 0.9392\n",
      "Epoch 70/5000\n",
      "28/28 [==============================] - 0s 2ms/step - loss: 9.8802e-04 - accuracy: 1.0000 - val_loss: 0.2076 - val_accuracy: 0.9418\n",
      "Epoch 71/5000\n",
      "28/28 [==============================] - 0s 2ms/step - loss: 6.9458e-04 - accuracy: 1.0000 - val_loss: 0.2065 - val_accuracy: 0.9418\n",
      "Epoch 72/5000\n",
      "28/28 [==============================] - 0s 2ms/step - loss: 6.8781e-04 - accuracy: 1.0000 - val_loss: 0.2207 - val_accuracy: 0.9365\n",
      "Epoch 73/5000\n",
      "28/28 [==============================] - 0s 2ms/step - loss: 7.0484e-04 - accuracy: 1.0000 - val_loss: 0.1990 - val_accuracy: 0.9444\n",
      "Epoch 74/5000\n",
      "28/28 [==============================] - 0s 3ms/step - loss: 5.3609e-04 - accuracy: 1.0000 - val_loss: 0.2103 - val_accuracy: 0.9471\n",
      "Epoch 75/5000\n",
      "28/28 [==============================] - 0s 2ms/step - loss: 4.0938e-04 - accuracy: 1.0000 - val_loss: 0.2043 - val_accuracy: 0.9418\n",
      "Epoch 76/5000\n",
      "28/28 [==============================] - 0s 2ms/step - loss: 3.7516e-04 - accuracy: 1.0000 - val_loss: 0.1981 - val_accuracy: 0.9418\n",
      "Epoch 77/5000\n",
      "28/28 [==============================] - 0s 2ms/step - loss: 4.6198e-04 - accuracy: 1.0000 - val_loss: 0.2208 - val_accuracy: 0.9418\n",
      "Epoch 78/5000\n",
      "28/28 [==============================] - 0s 2ms/step - loss: 2.6976e-04 - accuracy: 1.0000 - val_loss: 0.2098 - val_accuracy: 0.9392\n",
      "Epoch 79/5000\n",
      "28/28 [==============================] - 0s 2ms/step - loss: 3.7551e-04 - accuracy: 1.0000 - val_loss: 0.2074 - val_accuracy: 0.9471\n",
      "Epoch 80/5000\n",
      "28/28 [==============================] - 0s 2ms/step - loss: 2.8955e-04 - accuracy: 1.0000 - val_loss: 0.2080 - val_accuracy: 0.9418\n",
      "Epoch 81/5000\n",
      "28/28 [==============================] - 0s 2ms/step - loss: 2.0580e-04 - accuracy: 1.0000 - val_loss: 0.2198 - val_accuracy: 0.9418\n",
      "Epoch 82/5000\n",
      "28/28 [==============================] - 0s 2ms/step - loss: 1.3871e-04 - accuracy: 1.0000 - val_loss: 0.2388 - val_accuracy: 0.9339\n",
      "Epoch 83/5000\n",
      "28/28 [==============================] - 0s 3ms/step - loss: 1.7713e-04 - accuracy: 1.0000 - val_loss: 0.2457 - val_accuracy: 0.9312\n",
      "Epoch 84/5000\n",
      "28/28 [==============================] - 0s 2ms/step - loss: 2.3053e-04 - accuracy: 1.0000 - val_loss: 0.2355 - val_accuracy: 0.9471\n",
      "Epoch 85/5000\n",
      "28/28 [==============================] - 0s 2ms/step - loss: 1.9714e-04 - accuracy: 1.0000 - val_loss: 0.2237 - val_accuracy: 0.9392\n",
      "Epoch 86/5000\n",
      "28/28 [==============================] - 0s 2ms/step - loss: 1.0511e-04 - accuracy: 1.0000 - val_loss: 0.2220 - val_accuracy: 0.9550\n",
      "Epoch 87/5000\n",
      "28/28 [==============================] - 0s 2ms/step - loss: 9.7332e-05 - accuracy: 1.0000 - val_loss: 0.2637 - val_accuracy: 0.9444\n",
      "Epoch 88/5000\n",
      "28/28 [==============================] - 0s 2ms/step - loss: 1.3732e-04 - accuracy: 1.0000 - val_loss: 0.2096 - val_accuracy: 0.9550\n",
      "Epoch 89/5000\n",
      "28/28 [==============================] - 0s 2ms/step - loss: 6.9897e-05 - accuracy: 1.0000 - val_loss: 0.2360 - val_accuracy: 0.9497\n",
      "Epoch 90/5000\n",
      "28/28 [==============================] - 0s 2ms/step - loss: 1.0988e-04 - accuracy: 1.0000 - val_loss: 0.2519 - val_accuracy: 0.9471\n",
      "Epoch 91/5000\n",
      "28/28 [==============================] - 0s 2ms/step - loss: 6.8248e-05 - accuracy: 1.0000 - val_loss: 0.2587 - val_accuracy: 0.9524\n",
      "Epoch 92/5000\n",
      "28/28 [==============================] - 0s 3ms/step - loss: 4.7376e-05 - accuracy: 1.0000 - val_loss: 0.2332 - val_accuracy: 0.9444\n",
      "Epoch 93/5000\n",
      "28/28 [==============================] - 0s 2ms/step - loss: 7.3333e-05 - accuracy: 1.0000 - val_loss: 0.2463 - val_accuracy: 0.9550\n",
      "Epoch 94/5000\n",
      "28/28 [==============================] - 0s 2ms/step - loss: 5.9672e-05 - accuracy: 1.0000 - val_loss: 0.2487 - val_accuracy: 0.9497\n",
      "Epoch 95/5000\n",
      "28/28 [==============================] - 0s 2ms/step - loss: 2.8322e-05 - accuracy: 1.0000 - val_loss: 0.2198 - val_accuracy: 0.9497\n",
      "Epoch 96/5000\n",
      "28/28 [==============================] - 0s 2ms/step - loss: 3.1171e-05 - accuracy: 1.0000 - val_loss: 0.2327 - val_accuracy: 0.9577\n",
      "Epoch 97/5000\n",
      "28/28 [==============================] - 0s 2ms/step - loss: 5.5053e-05 - accuracy: 1.0000 - val_loss: 0.2325 - val_accuracy: 0.9471\n",
      "Epoch 98/5000\n",
      "28/28 [==============================] - 0s 2ms/step - loss: 1.8820e-05 - accuracy: 1.0000 - val_loss: 0.2291 - val_accuracy: 0.9550\n",
      "Epoch 99/5000\n",
      "28/28 [==============================] - 0s 2ms/step - loss: 3.1800e-05 - accuracy: 1.0000 - val_loss: 0.2668 - val_accuracy: 0.9418\n",
      "Epoch 100/5000\n",
      "28/28 [==============================] - 0s 2ms/step - loss: 3.0856e-05 - accuracy: 1.0000 - val_loss: 0.2455 - val_accuracy: 0.9497\n",
      "Epoch 101/5000\n",
      "28/28 [==============================] - 0s 2ms/step - loss: 1.3032e-05 - accuracy: 1.0000 - val_loss: 0.2516 - val_accuracy: 0.9418\n",
      "Epoch 102/5000\n",
      "28/28 [==============================] - 0s 3ms/step - loss: 2.9911e-05 - accuracy: 1.0000 - val_loss: 0.2248 - val_accuracy: 0.9418\n",
      "Epoch 103/5000\n",
      "28/28 [==============================] - 0s 2ms/step - loss: 1.3782e-05 - accuracy: 1.0000 - val_loss: 0.2338 - val_accuracy: 0.9444\n",
      "Epoch 104/5000\n",
      "28/28 [==============================] - 0s 2ms/step - loss: 2.3575e-05 - accuracy: 1.0000 - val_loss: 0.2323 - val_accuracy: 0.9524\n",
      "Epoch 105/5000\n",
      "28/28 [==============================] - 0s 2ms/step - loss: 8.8340e-06 - accuracy: 1.0000 - val_loss: 0.2457 - val_accuracy: 0.9471\n",
      "Epoch 106/5000\n",
      "28/28 [==============================] - 0s 2ms/step - loss: 8.7551e-06 - accuracy: 1.0000 - val_loss: 0.2395 - val_accuracy: 0.9444\n",
      "Epoch 107/5000\n",
      "28/28 [==============================] - 0s 2ms/step - loss: 1.5375e-05 - accuracy: 1.0000 - val_loss: 0.2506 - val_accuracy: 0.9418\n",
      "Epoch 108/5000\n",
      "28/28 [==============================] - 0s 2ms/step - loss: 1.8281e-05 - accuracy: 1.0000 - val_loss: 0.2587 - val_accuracy: 0.9471\n",
      "Epoch 109/5000\n",
      "28/28 [==============================] - 0s 2ms/step - loss: 5.8756e-06 - accuracy: 1.0000 - val_loss: 0.2420 - val_accuracy: 0.9550\n",
      "Epoch 110/5000\n",
      "28/28 [==============================] - 0s 2ms/step - loss: 4.6343e-06 - accuracy: 1.0000 - val_loss: 0.2539 - val_accuracy: 0.9444\n",
      "Epoch 111/5000\n",
      "28/28 [==============================] - 0s 3ms/step - loss: 5.9207e-06 - accuracy: 1.0000 - val_loss: 0.2385 - val_accuracy: 0.9497\n",
      "Epoch 112/5000\n",
      "28/28 [==============================] - 0s 2ms/step - loss: 1.2515e-05 - accuracy: 1.0000 - val_loss: 0.2667 - val_accuracy: 0.9524\n",
      "Epoch 113/5000\n",
      "28/28 [==============================] - 0s 2ms/step - loss: 2.9258e-06 - accuracy: 1.0000 - val_loss: 0.2539 - val_accuracy: 0.9524\n",
      "Epoch 114/5000\n",
      "28/28 [==============================] - 0s 2ms/step - loss: 3.9122e-06 - accuracy: 1.0000 - val_loss: 0.2596 - val_accuracy: 0.9524\n",
      "Epoch 115/5000\n",
      "28/28 [==============================] - 0s 2ms/step - loss: 3.4837e-06 - accuracy: 1.0000 - val_loss: 0.2580 - val_accuracy: 0.9524\n",
      "Epoch 116/5000\n",
      "28/28 [==============================] - 0s 2ms/step - loss: 5.1288e-06 - accuracy: 1.0000 - val_loss: 0.2573 - val_accuracy: 0.9497\n",
      "Epoch 117/5000\n",
      "28/28 [==============================] - 0s 2ms/step - loss: 2.0824e-06 - accuracy: 1.0000 - val_loss: 0.2362 - val_accuracy: 0.9497\n",
      "Epoch 118/5000\n",
      "28/28 [==============================] - 0s 2ms/step - loss: 1.1617e-05 - accuracy: 1.0000 - val_loss: 0.2508 - val_accuracy: 0.9497\n",
      "Epoch 119/5000\n",
      "28/28 [==============================] - 0s 2ms/step - loss: 2.2521e-06 - accuracy: 1.0000 - val_loss: 0.2603 - val_accuracy: 0.9524\n",
      "Epoch 120/5000\n",
      "28/28 [==============================] - 0s 3ms/step - loss: 1.2006e-06 - accuracy: 1.0000 - val_loss: 0.2566 - val_accuracy: 0.9524\n",
      "Epoch 121/5000\n",
      "28/28 [==============================] - 0s 2ms/step - loss: 4.0613e-06 - accuracy: 1.0000 - val_loss: 0.2547 - val_accuracy: 0.9603\n",
      "Epoch 122/5000\n",
      "28/28 [==============================] - 0s 2ms/step - loss: 1.1919e-06 - accuracy: 1.0000 - val_loss: 0.2472 - val_accuracy: 0.9577\n",
      "Epoch 123/5000\n",
      "28/28 [==============================] - 0s 2ms/step - loss: 1.3271e-06 - accuracy: 1.0000 - val_loss: 0.2744 - val_accuracy: 0.9471\n",
      "Epoch 124/5000\n",
      "28/28 [==============================] - 0s 2ms/step - loss: 1.8275e-06 - accuracy: 1.0000 - val_loss: 0.2658 - val_accuracy: 0.9471\n",
      "Epoch 125/5000\n",
      "28/28 [==============================] - 0s 2ms/step - loss: 2.0664e-06 - accuracy: 1.0000 - val_loss: 0.2573 - val_accuracy: 0.9577\n",
      "Epoch 126/5000\n",
      "28/28 [==============================] - 0s 2ms/step - loss: 7.5756e-07 - accuracy: 1.0000 - val_loss: 0.2820 - val_accuracy: 0.9550\n",
      "Epoch 127/5000\n",
      "28/28 [==============================] - 0s 2ms/step - loss: 1.6395e-06 - accuracy: 1.0000 - val_loss: 0.2763 - val_accuracy: 0.9524\n",
      "Epoch 128/5000\n",
      "28/28 [==============================] - 0s 3ms/step - loss: 4.4198e-07 - accuracy: 1.0000 - val_loss: 0.2643 - val_accuracy: 0.9524\n",
      "Epoch 129/5000\n",
      "28/28 [==============================] - 0s 2ms/step - loss: 1.2625e-05 - accuracy: 1.0000 - val_loss: 0.2692 - val_accuracy: 0.9550\n",
      "Epoch 130/5000\n",
      "28/28 [==============================] - 0s 3ms/step - loss: 3.5600e-07 - accuracy: 1.0000 - val_loss: 0.2668 - val_accuracy: 0.9550\n",
      "Epoch 131/5000\n",
      "28/28 [==============================] - 0s 2ms/step - loss: 2.9294e-07 - accuracy: 1.0000 - val_loss: 0.2699 - val_accuracy: 0.9577\n",
      "Epoch 132/5000\n",
      "28/28 [==============================] - 0s 2ms/step - loss: 3.6210e-07 - accuracy: 1.0000 - val_loss: 0.2744 - val_accuracy: 0.9550\n",
      "Epoch 133/5000\n",
      "28/28 [==============================] - 0s 2ms/step - loss: 3.0948e-07 - accuracy: 1.0000 - val_loss: 0.2888 - val_accuracy: 0.9524\n",
      "Epoch 134/5000\n",
      "28/28 [==============================] - 0s 2ms/step - loss: 6.8417e-07 - accuracy: 1.0000 - val_loss: 0.2698 - val_accuracy: 0.9577\n",
      "Epoch 135/5000\n",
      "28/28 [==============================] - 0s 2ms/step - loss: 4.0767e-07 - accuracy: 1.0000 - val_loss: 0.2537 - val_accuracy: 0.9603\n",
      "Epoch 136/5000\n",
      "28/28 [==============================] - 0s 2ms/step - loss: 2.7124e-07 - accuracy: 1.0000 - val_loss: 0.2793 - val_accuracy: 0.9577\n",
      "Epoch 137/5000\n",
      "28/28 [==============================] - 0s 2ms/step - loss: 2.1889e-07 - accuracy: 1.0000 - val_loss: 0.2745 - val_accuracy: 0.9577\n",
      "Epoch 138/5000\n",
      "28/28 [==============================] - 0s 2ms/step - loss: 2.6771e-07 - accuracy: 1.0000 - val_loss: 0.2993 - val_accuracy: 0.9524\n",
      "Epoch 139/5000\n",
      "28/28 [==============================] - 0s 3ms/step - loss: 7.2497e-07 - accuracy: 1.0000 - val_loss: 0.2945 - val_accuracy: 0.9524\n",
      "Epoch 140/5000\n",
      "28/28 [==============================] - 0s 2ms/step - loss: 2.5265e-07 - accuracy: 1.0000 - val_loss: 0.2743 - val_accuracy: 0.9603\n",
      "Epoch 141/5000\n",
      "28/28 [==============================] - 0s 2ms/step - loss: 7.6896e-08 - accuracy: 1.0000 - val_loss: 0.2824 - val_accuracy: 0.9603\n",
      "Epoch 142/5000\n",
      "28/28 [==============================] - 0s 2ms/step - loss: 8.4526e-07 - accuracy: 1.0000 - val_loss: 0.3364 - val_accuracy: 0.9497\n",
      "Epoch 143/5000\n",
      "28/28 [==============================] - 0s 2ms/step - loss: 2.0004e-07 - accuracy: 1.0000 - val_loss: 0.2796 - val_accuracy: 0.9603\n",
      "Epoch 144/5000\n",
      "28/28 [==============================] - 0s 2ms/step - loss: 6.6860e-08 - accuracy: 1.0000 - val_loss: 0.2857 - val_accuracy: 0.9550\n",
      "Epoch 145/5000\n",
      "28/28 [==============================] - 0s 2ms/step - loss: 7.2421e-08 - accuracy: 1.0000 - val_loss: 0.3034 - val_accuracy: 0.9497\n",
      "Epoch 146/5000\n",
      "28/28 [==============================] - 0s 2ms/step - loss: 1.2884e-07 - accuracy: 1.0000 - val_loss: 0.2958 - val_accuracy: 0.9577\n",
      "Epoch 147/5000\n",
      "28/28 [==============================] - 0s 2ms/step - loss: 1.0199e-07 - accuracy: 1.0000 - val_loss: 0.2883 - val_accuracy: 0.9524\n",
      "Epoch 148/5000\n",
      "28/28 [==============================] - 0s 3ms/step - loss: 5.4248e-08 - accuracy: 1.0000 - val_loss: 0.2935 - val_accuracy: 0.9577\n",
      "Epoch 149/5000\n",
      "28/28 [==============================] - 0s 2ms/step - loss: 4.4890e-08 - accuracy: 1.0000 - val_loss: 0.2827 - val_accuracy: 0.9577\n",
      "Epoch 150/5000\n",
      "28/28 [==============================] - 0s 2ms/step - loss: 1.8186e-07 - accuracy: 1.0000 - val_loss: 0.2857 - val_accuracy: 0.9550\n",
      "Epoch 151/5000\n",
      "28/28 [==============================] - 0s 2ms/step - loss: 2.5632e-08 - accuracy: 1.0000 - val_loss: 0.2826 - val_accuracy: 0.9577\n",
      "Epoch 152/5000\n",
      "28/28 [==============================] - 0s 2ms/step - loss: 2.9294e-08 - accuracy: 1.0000 - val_loss: 0.2880 - val_accuracy: 0.9550\n",
      "Epoch 153/5000\n",
      "28/28 [==============================] - 0s 2ms/step - loss: 3.7973e-08 - accuracy: 1.0000 - val_loss: 0.3025 - val_accuracy: 0.9550\n",
      "Epoch 154/5000\n",
      "28/28 [==============================] - 0s 2ms/step - loss: 1.2762e-07 - accuracy: 1.0000 - val_loss: 0.2885 - val_accuracy: 0.9577\n",
      "Epoch 155/5000\n",
      "28/28 [==============================] - 0s 2ms/step - loss: 1.7902e-08 - accuracy: 1.0000 - val_loss: 0.2989 - val_accuracy: 0.9524\n",
      "Epoch 156/5000\n",
      "28/28 [==============================] - 0s 2ms/step - loss: 2.2784e-08 - accuracy: 1.0000 - val_loss: 0.3420 - val_accuracy: 0.9497\n",
      "Epoch 00156: early stopping\n",
      "CPU times: user 14.5 s, sys: 1.24 s, total: 15.8 s\n",
      "Wall time: 11.7 s\n"
     ]
    }
   ],
   "source": [
    "%%time\n",
    "log = model.fit(X_train, Y_train, epochs=5000, batch_size=32, verbose=True,\n",
    "                callbacks=[keras.callbacks.EarlyStopping(monitor='val_loss', \n",
    "                                                         min_delta=0, patience=100, \n",
    "                                                         verbose=1)],\n",
    "         validation_data=(X_valid, Y_valid))"
   ]
  },
  {
   "cell_type": "code",
   "execution_count": 15,
   "metadata": {},
   "outputs": [
    {
     "data": {
      "image/png": "[encoded data removed]",
      "text/plain": [
       "<Figure size 432x288 with 1 Axes>"
      ]
     },
     "metadata": {
      "needs_background": "light"
     },
     "output_type": "display_data"
    }
   ],
   "source": [
    "plt.plot(log.history['loss'], label='loss')\n",
    "plt.plot(log.history['val_loss'], label='val_loss')\n",
    "plt.legend(frameon=False) \n",
    "plt.xlabel(\"epochs\")\n",
    "plt.ylabel(\"crossentropy\")\n",
    "plt.show()"
   ]
  },
  {
   "cell_type": "markdown",
   "metadata": {},
   "source": [
    "## テストデータによる評価(全結合層)"
   ]
  },
  {
   "cell_type": "code",
   "execution_count": 16,
   "metadata": {},
   "outputs": [],
   "source": [
    "Y_pred = np.argmax(model.predict(X_test), axis=1)"
   ]
  },
  {
   "cell_type": "code",
   "execution_count": 17,
   "metadata": {},
   "outputs": [],
   "source": [
    "# カテゴリー変数の復元\n",
    "Y_test_ = np.argmax(Y_test, axis=1)"
   ]
  },
  {
   "cell_type": "code",
   "execution_count": 18,
   "metadata": {},
   "outputs": [
    {
     "name": "stdout",
     "output_type": "stream",
     "text": [
      "              precision    recall  f1-score   support\n",
      "\n",
      "           0       0.98      1.00      0.99        45\n",
      "           1       0.86      0.98      0.92        52\n",
      "           2       0.98      0.92      0.95        53\n",
      "           3       0.98      0.98      0.98        54\n",
      "           4       0.98      0.98      0.98        48\n",
      "           5       0.93      0.96      0.95        57\n",
      "           6       0.97      0.98      0.98        60\n",
      "           7       0.95      0.98      0.96        53\n",
      "           8       0.92      0.92      0.92        61\n",
      "           9       1.00      0.82      0.90        57\n",
      "\n",
      "    accuracy                           0.95       540\n",
      "   macro avg       0.95      0.95      0.95       540\n",
      "weighted avg       0.95      0.95      0.95       540\n",
      "\n"
     ]
    }
   ],
   "source": [
    "# モデルの評価\n",
    "from sklearn.metrics import classification_report\n",
    "\n",
    "print(classification_report(Y_test_, Y_pred))"
   ]
  },
  {
   "cell_type": "markdown",
   "metadata": {},
   "source": [
    "## モデルの構築(CNN層)"
   ]
  },
  {
   "cell_type": "code",
   "execution_count": 19,
   "metadata": {},
   "outputs": [],
   "source": [
    "# 8X8の画像の形状にreshape\n",
    "X2 = X.reshape(len(X), 8, 8, 1)"
   ]
  },
  {
   "cell_type": "code",
   "execution_count": 55,
   "metadata": {},
   "outputs": [
    {
     "name": "stdout",
     "output_type": "stream",
     "text": [
      "(1797, 8, 8, 1)\n"
     ]
    }
   ],
   "source": [
    "print(X2.shape)"
   ]
  },
  {
   "cell_type": "code",
   "execution_count": 56,
   "metadata": {},
   "outputs": [],
   "source": [
    "X_train, X_test, Y_train, Y_test = train_test_split(X2, Y, test_size=0.3, random_state=0)\n",
    "X_train, X_valid, Y_train, Y_valid = train_test_split(X_train, Y_train, test_size=0.3, random_state=0)"
   ]
  },
  {
   "cell_type": "code",
   "execution_count": 57,
   "metadata": {},
   "outputs": [
    {
     "name": "stdout",
     "output_type": "stream",
     "text": [
      "Y_train= (879, 10) , X_train= (879, 8, 8, 1)\n",
      "Y_valid= (378, 10) , X_valid= (378, 8, 8, 1)\n",
      "Y_test= (540, 10) , X_test= (540, 8, 8, 1)\n"
     ]
    }
   ],
   "source": [
    "print(\"Y_train=\", Y_train.shape, \", X_train=\", X_train.shape)\n",
    "print(\"Y_valid=\", Y_valid.shape, \", X_valid=\", X_valid.shape)\n",
    "print(\"Y_test=\", Y_test.shape, \", X_test=\", X_test.shape)"
   ]
  },
  {
   "cell_type": "code",
   "execution_count": 58,
   "metadata": {},
   "outputs": [],
   "source": [
    "from tensorflow.keras.layers import Conv2D\n",
    "from tensorflow.keras.layers import Flatten"
   ]
  },
  {
   "cell_type": "code",
   "execution_count": 59,
   "metadata": {},
   "outputs": [],
   "source": [
    "# モデルの初期化\n",
    "model = keras.Sequential()\n",
    "\n",
    "model.add(Conv2D(32, kernel_size=3, padding=\"same\", strides=1,\n",
    "    input_shape=(8, 8, 1,), activation=\"relu\"))\n",
    "model.add(Flatten())\n",
    "model.add(Dense(16, activation='relu'))\n",
    "model.add(Dense(10, activation='softmax'))\n",
    "\n",
    "model.compile(optimizer = \"rmsprop\", loss='categorical_crossentropy', metrics=['accuracy'])"
   ]
  },
  {
   "cell_type": "code",
   "execution_count": 60,
   "metadata": {},
   "outputs": [
    {
     "name": "stdout",
     "output_type": "stream",
     "text": [
      "Model: \"sequential_3\"\n",
      "_________________________________________________________________\n",
      "Layer (type)                 Output Shape              Param #   \n",
      "=================================================================\n",
      "conv2d_3 (Conv2D)            (None, 8, 8, 32)          320       \n",
      "_________________________________________________________________\n",
      "flatten_2 (Flatten)          (None, 2048)              0         \n",
      "_________________________________________________________________\n",
      "dense_7 (Dense)              (None, 16)                32784     \n",
      "_________________________________________________________________\n",
      "dense_8 (Dense)              (None, 10)                170       \n",
      "=================================================================\n",
      "Total params: 33,274\n",
      "Trainable params: 33,274\n",
      "Non-trainable params: 0\n",
      "_________________________________________________________________\n"
     ]
    }
   ],
   "source": [
    "model.summary()"
   ]
  },
  {
   "cell_type": "markdown",
   "metadata": {},
   "source": [
    "## 学習の実施(CNN層)"
   ]
  },
  {
   "cell_type": "code",
   "execution_count": null,
   "metadata": {},
   "outputs": [],
   "source": [
    "%%time\n",
    "log = model.fit(X_train, Y_train, epochs=5000, batch_size=32, verbose=True,\n",
    "                callbacks=[keras.callbacks.EarlyStopping(monitor='val_loss', \n",
    "                                                         min_delta=0, patience=100, \n",
    "                                                         verbose=1)],\n",
    "         validation_data=(X_valid, Y_valid))"
   ]
  },
  {
   "cell_type": "code",
   "execution_count": 26,
   "metadata": {},
   "outputs": [
    {
     "data": {
      "image/png": "[encoded data removed]",
      "text/plain": [
       "<Figure size 432x288 with 1 Axes>"
      ]
     },
     "metadata": {
      "needs_background": "light"
     },
     "output_type": "display_data"
    }
   ],
   "source": [
    "# グラフ表示\n",
    "plt.plot(log.history['loss'], label='loss')\n",
    "plt.plot(log.history['val_loss'], label='val_loss')\n",
    "plt.legend(frameon=False) # 凡例の表示\n",
    "plt.xlabel(\"epochs\")\n",
    "plt.ylabel(\"crossentropy\")\n",
    "plt.show()"
   ]
  },
  {
   "cell_type": "markdown",
   "metadata": {},
   "source": [
    "## テストデータによる評価(CNN層)"
   ]
  },
  {
   "cell_type": "code",
   "execution_count": 27,
   "metadata": {},
   "outputs": [],
   "source": [
    "Y_pred = np.argmax(model.predict(X_test), axis=1)"
   ]
  },
  {
   "cell_type": "code",
   "execution_count": 28,
   "metadata": {},
   "outputs": [],
   "source": [
    "# カテゴリー変数の復元\n",
    "Y_test_ = np.argmax(Y_test, axis=1)"
   ]
  },
  {
   "cell_type": "code",
   "execution_count": 29,
   "metadata": {},
   "outputs": [
    {
     "name": "stdout",
     "output_type": "stream",
     "text": [
      "              precision    recall  f1-score   support\n",
      "\n",
      "           0       0.00      0.00      0.00        45\n",
      "           1       0.00      0.00      0.00        52\n",
      "           2       0.08      0.11      0.09        53\n",
      "           3       0.10      0.07      0.08        54\n",
      "           4       0.00      0.00      0.00        48\n",
      "           5       0.26      0.75      0.38        57\n",
      "           6       0.01      0.02      0.01        60\n",
      "           7       0.00      0.00      0.00        53\n",
      "           8       0.00      0.00      0.00        61\n",
      "           9       0.00      0.00      0.00        57\n",
      "\n",
      "    accuracy                           0.10       540\n",
      "   macro avg       0.04      0.10      0.06       540\n",
      "weighted avg       0.05      0.10      0.06       540\n",
      "\n"
     ]
    }
   ],
   "source": [
    "# モデルの評価\n",
    "from sklearn.metrics import classification_report\n",
    "\n",
    "print(classification_report(Y_test_, Y_pred))"
   ]
  },
  {
   "cell_type": "markdown",
   "metadata": {},
   "source": [
    "# 4.モデルの性能をあげよう！"
   ]
  },
  {
   "cell_type": "code",
   "execution_count": 40,
   "metadata": {},
   "outputs": [],
   "source": [
    "from tensorflow.keras.layers import MaxPooling2D\n",
    "from tensorflow.keras.layers import Dropout\n",
    "from tensorflow.keras import regularizers"
   ]
  },
  {
   "cell_type": "code",
   "execution_count": 41,
   "metadata": {},
   "outputs": [],
   "source": [
    "# モデルの初期化\n",
    "model = keras.Sequential()\n",
    "\n",
    "# 入力層\n",
    "model.add(Conv2D(\n",
    "    64, kernel_size=3, padding=\"same\",\n",
    "    input_shape=(8, 8, 1,), activation=\"relu\"\n",
    "    ))\n",
    "# プーリング層\n",
    "model.add(MaxPooling2D(pool_size=(2, 2)))\n",
    "# ドロップアウト層\n",
    "model.add(Dropout(0.25))\n",
    "\n",
    "# 層のユニットの繰り返し\n",
    "model.add(Conv2D(128, kernel_size=3, padding=\"same\", activation=\"relu\"))\n",
    "model.add(MaxPooling2D(pool_size=(2, 2)))\n",
    "model.add(Dropout(0.25))\n",
    "\n",
    "# 1次元に変換\n",
    "model.add(Flatten())\n",
    "model.add(Dense(64, activation=\"relu\", kernel_regularizer=regularizers.l2(0.001))) # 正則化\n",
    "model.add(Dropout(0.5))\n",
    "\n",
    "# 出力層\n",
    "model.add(Dense(10, activation='softmax'))\n",
    "\n",
    "# モデルの構築\n",
    "model.compile(optimizer = \"rmsprop\", loss='categorical_crossentropy', metrics=['accuracy'])"
   ]
  },
  {
   "cell_type": "code",
   "execution_count": 61,
   "metadata": {},
   "outputs": [
    {
     "name": "stdout",
     "output_type": "stream",
     "text": [
      "Model: \"sequential_3\"\n",
      "_________________________________________________________________\n",
      "Layer (type)                 Output Shape              Param #   \n",
      "=================================================================\n",
      "conv2d_3 (Conv2D)            (None, 8, 8, 32)          320       \n",
      "_________________________________________________________________\n",
      "flatten_2 (Flatten)          (None, 2048)              0         \n",
      "_________________________________________________________________\n",
      "dense_7 (Dense)              (None, 16)                32784     \n",
      "_________________________________________________________________\n",
      "dense_8 (Dense)              (None, 10)                170       \n",
      "=================================================================\n",
      "Total params: 33,274\n",
      "Trainable params: 33,274\n",
      "Non-trainable params: 0\n",
      "_________________________________________________________________\n"
     ]
    }
   ],
   "source": [
    "model.summary()"
   ]
  },
  {
   "cell_type": "code",
   "execution_count": 62,
   "metadata": {},
   "outputs": [
    {
     "name": "stdout",
     "output_type": "stream",
     "text": [
      "Epoch 1/5000\n",
      "28/28 [==============================] - 0s 7ms/step - loss: 1.7035 - accuracy: 0.3766 - val_loss: 1.1090 - val_accuracy: 0.6508\n",
      "Epoch 2/5000\n",
      "28/28 [==============================] - 0s 3ms/step - loss: 0.9273 - accuracy: 0.7065 - val_loss: 0.7620 - val_accuracy: 0.7698\n",
      "Epoch 3/5000\n",
      "28/28 [==============================] - 0s 3ms/step - loss: 0.6191 - accuracy: 0.8259 - val_loss: 0.5987 - val_accuracy: 0.8016\n",
      "Epoch 4/5000\n",
      "28/28 [==============================] - 0s 3ms/step - loss: 0.4374 - accuracy: 0.8862 - val_loss: 0.4955 - val_accuracy: 0.8492\n",
      "Epoch 5/5000\n",
      "28/28 [==============================] - 0s 3ms/step - loss: 0.3297 - accuracy: 0.9147 - val_loss: 0.4113 - val_accuracy: 0.8651\n",
      "Epoch 6/5000\n",
      "28/28 [==============================] - 0s 3ms/step - loss: 0.2656 - accuracy: 0.9249 - val_loss: 0.3403 - val_accuracy: 0.8783\n",
      "Epoch 7/5000\n",
      "28/28 [==============================] - 0s 4ms/step - loss: 0.2054 - accuracy: 0.9465 - val_loss: 0.3790 - val_accuracy: 0.8598\n",
      "Epoch 8/5000\n",
      "28/28 [==============================] - 0s 3ms/step - loss: 0.1798 - accuracy: 0.9431 - val_loss: 0.3985 - val_accuracy: 0.8677\n",
      "Epoch 9/5000\n",
      "28/28 [==============================] - 0s 3ms/step - loss: 0.1494 - accuracy: 0.9625 - val_loss: 0.2409 - val_accuracy: 0.9206\n",
      "Epoch 10/5000\n",
      "28/28 [==============================] - 0s 3ms/step - loss: 0.1221 - accuracy: 0.9693 - val_loss: 0.2109 - val_accuracy: 0.9339\n",
      "Epoch 11/5000\n",
      "28/28 [==============================] - 0s 3ms/step - loss: 0.1211 - accuracy: 0.9647 - val_loss: 0.2430 - val_accuracy: 0.9206\n",
      "Epoch 12/5000\n",
      "28/28 [==============================] - 0s 3ms/step - loss: 0.0905 - accuracy: 0.9784 - val_loss: 0.2527 - val_accuracy: 0.9153\n",
      "Epoch 13/5000\n",
      "28/28 [==============================] - 0s 3ms/step - loss: 0.0714 - accuracy: 0.9795 - val_loss: 0.1549 - val_accuracy: 0.9392\n",
      "Epoch 14/5000\n",
      "28/28 [==============================] - 0s 3ms/step - loss: 0.0660 - accuracy: 0.9795 - val_loss: 0.1982 - val_accuracy: 0.9339\n",
      "Epoch 15/5000\n",
      "28/28 [==============================] - 0s 4ms/step - loss: 0.0543 - accuracy: 0.9841 - val_loss: 0.4025 - val_accuracy: 0.8810\n",
      "Epoch 16/5000\n",
      "28/28 [==============================] - 0s 3ms/step - loss: 0.0424 - accuracy: 0.9886 - val_loss: 0.1782 - val_accuracy: 0.9312\n",
      "Epoch 17/5000\n",
      "28/28 [==============================] - 0s 3ms/step - loss: 0.0343 - accuracy: 0.9909 - val_loss: 0.2406 - val_accuracy: 0.9259\n",
      "Epoch 18/5000\n",
      "28/28 [==============================] - 0s 3ms/step - loss: 0.0488 - accuracy: 0.9852 - val_loss: 0.2506 - val_accuracy: 0.9180\n",
      "Epoch 19/5000\n",
      "28/28 [==============================] - 0s 3ms/step - loss: 0.0232 - accuracy: 0.9954 - val_loss: 0.1463 - val_accuracy: 0.9550\n",
      "Epoch 20/5000\n",
      "28/28 [==============================] - 0s 3ms/step - loss: 0.0249 - accuracy: 0.9909 - val_loss: 0.1083 - val_accuracy: 0.9603\n",
      "Epoch 21/5000\n",
      "28/28 [==============================] - 0s 3ms/step - loss: 0.0137 - accuracy: 1.0000 - val_loss: 0.0888 - val_accuracy: 0.9683\n",
      "Epoch 22/5000\n",
      "28/28 [==============================] - 0s 3ms/step - loss: 0.0179 - accuracy: 0.9954 - val_loss: 0.0919 - val_accuracy: 0.9709\n",
      "Epoch 23/5000\n",
      "28/28 [==============================] - 0s 3ms/step - loss: 0.0108 - accuracy: 0.9989 - val_loss: 0.1013 - val_accuracy: 0.9577\n",
      "Epoch 24/5000\n",
      "28/28 [==============================] - 0s 4ms/step - loss: 0.0068 - accuracy: 0.9989 - val_loss: 0.0857 - val_accuracy: 0.9656\n",
      "Epoch 25/5000\n",
      "28/28 [==============================] - 0s 3ms/step - loss: 0.0139 - accuracy: 0.9977 - val_loss: 0.1035 - val_accuracy: 0.9603\n",
      "Epoch 26/5000\n",
      "28/28 [==============================] - 0s 3ms/step - loss: 0.0033 - accuracy: 1.0000 - val_loss: 0.0898 - val_accuracy: 0.9709\n",
      "Epoch 27/5000\n",
      "28/28 [==============================] - 0s 3ms/step - loss: 0.0065 - accuracy: 1.0000 - val_loss: 0.0831 - val_accuracy: 0.9815\n",
      "Epoch 28/5000\n",
      "28/28 [==============================] - 0s 3ms/step - loss: 0.0076 - accuracy: 0.9989 - val_loss: 0.1179 - val_accuracy: 0.9577\n",
      "Epoch 29/5000\n",
      "28/28 [==============================] - 0s 3ms/step - loss: 0.0022 - accuracy: 1.0000 - val_loss: 0.1151 - val_accuracy: 0.9603\n",
      "Epoch 30/5000\n",
      "28/28 [==============================] - 0s 3ms/step - loss: 0.0042 - accuracy: 0.9989 - val_loss: 0.1081 - val_accuracy: 0.9577\n",
      "Epoch 31/5000\n",
      "28/28 [==============================] - 0s 3ms/step - loss: 0.0012 - accuracy: 1.0000 - val_loss: 0.0838 - val_accuracy: 0.9683\n",
      "Epoch 32/5000\n",
      "28/28 [==============================] - 0s 3ms/step - loss: 0.0015 - accuracy: 1.0000 - val_loss: 0.0711 - val_accuracy: 0.9788\n",
      "Epoch 33/5000\n",
      "28/28 [==============================] - 0s 4ms/step - loss: 0.0052 - accuracy: 0.9977 - val_loss: 0.1046 - val_accuracy: 0.9656\n",
      "Epoch 34/5000\n",
      "28/28 [==============================] - 0s 9ms/step - loss: 5.6408e-04 - accuracy: 1.0000 - val_loss: 0.0898 - val_accuracy: 0.9709\n",
      "Epoch 35/5000\n",
      "28/28 [==============================] - 0s 3ms/step - loss: 6.0986e-04 - accuracy: 1.0000 - val_loss: 0.4212 - val_accuracy: 0.8757\n",
      "Epoch 36/5000\n",
      "28/28 [==============================] - 0s 3ms/step - loss: 0.0082 - accuracy: 0.9966 - val_loss: 0.0865 - val_accuracy: 0.9735\n",
      "Epoch 37/5000\n",
      "28/28 [==============================] - 0s 3ms/step - loss: 2.7924e-04 - accuracy: 1.0000 - val_loss: 0.0900 - val_accuracy: 0.9683\n",
      "Epoch 38/5000\n",
      "28/28 [==============================] - 0s 3ms/step - loss: 0.0032 - accuracy: 0.9989 - val_loss: 0.0961 - val_accuracy: 0.9709\n",
      "Epoch 39/5000\n",
      "28/28 [==============================] - 0s 3ms/step - loss: 2.6149e-04 - accuracy: 1.0000 - val_loss: 0.0952 - val_accuracy: 0.9735\n",
      "Epoch 40/5000\n",
      "28/28 [==============================] - 0s 3ms/step - loss: 0.0017 - accuracy: 1.0000 - val_loss: 0.1115 - val_accuracy: 0.9630\n",
      "Epoch 41/5000\n",
      "28/28 [==============================] - 0s 3ms/step - loss: 3.4034e-04 - accuracy: 1.0000 - val_loss: 0.1014 - val_accuracy: 0.9630\n",
      "Epoch 42/5000\n",
      "28/28 [==============================] - 0s 4ms/step - loss: 0.0013 - accuracy: 1.0000 - val_loss: 0.1049 - val_accuracy: 0.9683\n",
      "Epoch 43/5000\n",
      "28/28 [==============================] - 0s 3ms/step - loss: 1.9981e-04 - accuracy: 1.0000 - val_loss: 0.0951 - val_accuracy: 0.9683\n",
      "Epoch 44/5000\n",
      "28/28 [==============================] - 0s 3ms/step - loss: 0.0013 - accuracy: 0.9989 - val_loss: 0.1094 - val_accuracy: 0.9656\n",
      "Epoch 45/5000\n",
      "28/28 [==============================] - 0s 3ms/step - loss: 1.3188e-04 - accuracy: 1.0000 - val_loss: 0.1035 - val_accuracy: 0.9683\n",
      "Epoch 46/5000\n",
      "28/28 [==============================] - 0s 3ms/step - loss: 7.7874e-05 - accuracy: 1.0000 - val_loss: 0.0958 - val_accuracy: 0.9735\n",
      "Epoch 47/5000\n",
      "28/28 [==============================] - 0s 3ms/step - loss: 0.0030 - accuracy: 0.9989 - val_loss: 0.0903 - val_accuracy: 0.9709\n",
      "Epoch 48/5000\n",
      "28/28 [==============================] - 0s 3ms/step - loss: 6.0759e-05 - accuracy: 1.0000 - val_loss: 0.0980 - val_accuracy: 0.9683\n",
      "Epoch 49/5000\n",
      "28/28 [==============================] - 0s 3ms/step - loss: 3.7373e-05 - accuracy: 1.0000 - val_loss: 0.1047 - val_accuracy: 0.9735\n",
      "Epoch 50/5000\n",
      "28/28 [==============================] - 0s 3ms/step - loss: 4.1754e-05 - accuracy: 1.0000 - val_loss: 0.1351 - val_accuracy: 0.9630\n",
      "Epoch 51/5000\n",
      "28/28 [==============================] - 0s 4ms/step - loss: 0.0026 - accuracy: 0.9977 - val_loss: 0.1093 - val_accuracy: 0.9656\n",
      "Epoch 52/5000\n",
      "28/28 [==============================] - 0s 3ms/step - loss: 4.2165e-05 - accuracy: 1.0000 - val_loss: 0.1045 - val_accuracy: 0.9683\n",
      "Epoch 53/5000\n",
      "28/28 [==============================] - 0s 3ms/step - loss: 2.7109e-05 - accuracy: 1.0000 - val_loss: 0.1089 - val_accuracy: 0.9656\n",
      "Epoch 54/5000\n",
      "28/28 [==============================] - 0s 3ms/step - loss: 2.5003e-05 - accuracy: 1.0000 - val_loss: 0.1121 - val_accuracy: 0.9656\n",
      "Epoch 55/5000\n",
      "28/28 [==============================] - 0s 3ms/step - loss: 2.3229e-05 - accuracy: 1.0000 - val_loss: 0.1638 - val_accuracy: 0.9683\n",
      "Epoch 56/5000\n",
      "28/28 [==============================] - 0s 3ms/step - loss: 4.4087e-04 - accuracy: 1.0000 - val_loss: 0.1253 - val_accuracy: 0.9683\n",
      "Epoch 57/5000\n",
      "28/28 [==============================] - 0s 3ms/step - loss: 2.6520e-05 - accuracy: 1.0000 - val_loss: 0.1063 - val_accuracy: 0.9656\n",
      "Epoch 58/5000\n",
      "28/28 [==============================] - 0s 3ms/step - loss: 7.3994e-06 - accuracy: 1.0000 - val_loss: 0.1066 - val_accuracy: 0.9709\n",
      "Epoch 59/5000\n",
      "28/28 [==============================] - 0s 3ms/step - loss: 0.0017 - accuracy: 0.9989 - val_loss: 0.1187 - val_accuracy: 0.9656\n",
      "Epoch 60/5000\n",
      "28/28 [==============================] - 0s 3ms/step - loss: 1.0175e-05 - accuracy: 1.0000 - val_loss: 0.1082 - val_accuracy: 0.9630\n",
      "Epoch 61/5000\n",
      "28/28 [==============================] - 0s 3ms/step - loss: 6.1939e-06 - accuracy: 1.0000 - val_loss: 0.1070 - val_accuracy: 0.9683\n",
      "Epoch 62/5000\n",
      "28/28 [==============================] - 0s 3ms/step - loss: 6.6845e-06 - accuracy: 1.0000 - val_loss: 0.0954 - val_accuracy: 0.9709\n",
      "Epoch 63/5000\n",
      "28/28 [==============================] - 0s 3ms/step - loss: 3.4197e-06 - accuracy: 1.0000 - val_loss: 0.1217 - val_accuracy: 0.9683\n",
      "Epoch 64/5000\n",
      "28/28 [==============================] - 0s 3ms/step - loss: 0.0021 - accuracy: 0.9989 - val_loss: 0.1421 - val_accuracy: 0.9630\n",
      "Epoch 65/5000\n",
      "28/28 [==============================] - 0s 3ms/step - loss: 1.5899e-05 - accuracy: 1.0000 - val_loss: 0.1243 - val_accuracy: 0.9630\n",
      "Epoch 66/5000\n",
      "28/28 [==============================] - 0s 3ms/step - loss: 4.9605e-06 - accuracy: 1.0000 - val_loss: 0.1155 - val_accuracy: 0.9630\n",
      "Epoch 67/5000\n",
      "28/28 [==============================] - 0s 3ms/step - loss: 2.5090e-06 - accuracy: 1.0000 - val_loss: 0.1166 - val_accuracy: 0.9656\n",
      "Epoch 68/5000\n",
      "28/28 [==============================] - 0s 4ms/step - loss: 2.3482e-06 - accuracy: 1.0000 - val_loss: 0.1699 - val_accuracy: 0.9630\n",
      "Epoch 69/5000\n",
      "28/28 [==============================] - 0s 3ms/step - loss: 2.6017e-04 - accuracy: 1.0000 - val_loss: 0.1294 - val_accuracy: 0.9709\n",
      "Epoch 70/5000\n",
      "28/28 [==============================] - 0s 3ms/step - loss: 1.9823e-06 - accuracy: 1.0000 - val_loss: 0.1370 - val_accuracy: 0.9656\n",
      "Epoch 71/5000\n",
      "28/28 [==============================] - 0s 3ms/step - loss: 1.3403e-06 - accuracy: 1.0000 - val_loss: 0.1336 - val_accuracy: 0.9683\n",
      "Epoch 72/5000\n",
      "28/28 [==============================] - 0s 3ms/step - loss: 1.1386e-06 - accuracy: 1.0000 - val_loss: 0.1326 - val_accuracy: 0.9630\n",
      "Epoch 73/5000\n",
      "28/28 [==============================] - 0s 3ms/step - loss: 9.8369e-04 - accuracy: 1.0000 - val_loss: 0.1744 - val_accuracy: 0.9603\n",
      "Epoch 74/5000\n",
      "28/28 [==============================] - 0s 3ms/step - loss: 5.3377e-06 - accuracy: 1.0000 - val_loss: 0.1501 - val_accuracy: 0.9577\n",
      "Epoch 75/5000\n",
      "28/28 [==============================] - 0s 3ms/step - loss: 1.7598e-06 - accuracy: 1.0000 - val_loss: 0.1478 - val_accuracy: 0.9603\n",
      "Epoch 76/5000\n",
      "28/28 [==============================] - 0s 3ms/step - loss: 8.3052e-07 - accuracy: 1.0000 - val_loss: 0.1403 - val_accuracy: 0.9656\n",
      "Epoch 77/5000\n",
      "28/28 [==============================] - 0s 4ms/step - loss: 5.8587e-07 - accuracy: 1.0000 - val_loss: 0.1324 - val_accuracy: 0.9683\n",
      "Epoch 78/5000\n",
      "28/28 [==============================] - 0s 3ms/step - loss: 4.4157e-07 - accuracy: 1.0000 - val_loss: 0.1508 - val_accuracy: 0.9603\n",
      "Epoch 79/5000\n",
      "28/28 [==============================] - 0s 3ms/step - loss: 7.6513e-07 - accuracy: 1.0000 - val_loss: 0.4336 - val_accuracy: 0.9259\n",
      "Epoch 80/5000\n",
      "28/28 [==============================] - 0s 3ms/step - loss: 0.0021 - accuracy: 0.9989 - val_loss: 0.1928 - val_accuracy: 0.9683\n",
      "Epoch 81/5000\n",
      "28/28 [==============================] - 0s 3ms/step - loss: 7.5573e-06 - accuracy: 1.0000 - val_loss: 0.1718 - val_accuracy: 0.9630\n",
      "Epoch 82/5000\n",
      "28/28 [==============================] - 0s 3ms/step - loss: 2.0495e-06 - accuracy: 1.0000 - val_loss: 0.1526 - val_accuracy: 0.9656\n",
      "Epoch 83/5000\n",
      "28/28 [==============================] - 0s 3ms/step - loss: 6.0933e-07 - accuracy: 1.0000 - val_loss: 0.1377 - val_accuracy: 0.9656\n",
      "Epoch 84/5000\n",
      "28/28 [==============================] - 0s 3ms/step - loss: 2.5184e-07 - accuracy: 1.0000 - val_loss: 0.1373 - val_accuracy: 0.9656\n",
      "Epoch 85/5000\n",
      "28/28 [==============================] - 0s 3ms/step - loss: 2.0777e-07 - accuracy: 1.0000 - val_loss: 0.1390 - val_accuracy: 0.9656\n",
      "Epoch 86/5000\n",
      "28/28 [==============================] - 0s 4ms/step - loss: 1.1875e-05 - accuracy: 1.0000 - val_loss: 0.1741 - val_accuracy: 0.9577\n",
      "Epoch 87/5000\n",
      "28/28 [==============================] - 0s 3ms/step - loss: 5.2931e-07 - accuracy: 1.0000 - val_loss: 0.1540 - val_accuracy: 0.9683\n",
      "Epoch 88/5000\n",
      "28/28 [==============================] - 0s 3ms/step - loss: 1.9095e-07 - accuracy: 1.0000 - val_loss: 0.1647 - val_accuracy: 0.9683\n",
      "Epoch 89/5000\n",
      "28/28 [==============================] - 0s 3ms/step - loss: 1.9705e-07 - accuracy: 1.0000 - val_loss: 0.2551 - val_accuracy: 0.9524\n",
      "Epoch 90/5000\n",
      "28/28 [==============================] - 0s 3ms/step - loss: 0.0013 - accuracy: 0.9989 - val_loss: 0.1771 - val_accuracy: 0.9656\n",
      "Epoch 91/5000\n",
      "28/28 [==============================] - 0s 3ms/step - loss: 3.3240e-07 - accuracy: 1.0000 - val_loss: 0.1649 - val_accuracy: 0.9630\n",
      "Epoch 92/5000\n",
      "28/28 [==============================] - 0s 3ms/step - loss: 1.8254e-07 - accuracy: 1.0000 - val_loss: 0.1612 - val_accuracy: 0.9630\n",
      "Epoch 93/5000\n",
      "28/28 [==============================] - 0s 3ms/step - loss: 1.2246e-07 - accuracy: 1.0000 - val_loss: 0.1557 - val_accuracy: 0.9630\n",
      "Epoch 94/5000\n",
      "28/28 [==============================] - 0s 3ms/step - loss: 1.0443e-07 - accuracy: 1.0000 - val_loss: 0.1515 - val_accuracy: 0.9630\n",
      "Epoch 95/5000\n",
      "28/28 [==============================] - 0s 3ms/step - loss: 8.1778e-08 - accuracy: 1.0000 - val_loss: 0.1444 - val_accuracy: 0.9603\n",
      "Epoch 96/5000\n",
      "28/28 [==============================] - 0s 3ms/step - loss: 5.3570e-08 - accuracy: 1.0000 - val_loss: 0.1661 - val_accuracy: 0.9683\n",
      "Epoch 97/5000\n",
      "28/28 [==============================] - 0s 3ms/step - loss: 5.3298e-08 - accuracy: 1.0000 - val_loss: 0.1550 - val_accuracy: 0.9656\n",
      "Epoch 98/5000\n",
      "28/28 [==============================] - 0s 3ms/step - loss: 5.0450e-08 - accuracy: 1.0000 - val_loss: 0.1538 - val_accuracy: 0.9683\n",
      "Epoch 99/5000\n",
      "28/28 [==============================] - 0s 3ms/step - loss: 8.2316e-07 - accuracy: 1.0000 - val_loss: 0.1473 - val_accuracy: 0.9656\n",
      "Epoch 100/5000\n",
      "28/28 [==============================] - 0s 3ms/step - loss: 5.8587e-08 - accuracy: 1.0000 - val_loss: 0.1301 - val_accuracy: 0.9683\n",
      "Epoch 101/5000\n",
      "28/28 [==============================] - 0s 3ms/step - loss: 3.7566e-08 - accuracy: 1.0000 - val_loss: 0.1568 - val_accuracy: 0.9603\n",
      "Epoch 102/5000\n",
      "28/28 [==============================] - 0s 3ms/step - loss: 2.6310e-08 - accuracy: 1.0000 - val_loss: 0.1818 - val_accuracy: 0.9656\n",
      "Epoch 103/5000\n",
      "28/28 [==============================] - 0s 3ms/step - loss: 2.1088e-07 - accuracy: 1.0000 - val_loss: 0.1527 - val_accuracy: 0.9630\n",
      "Epoch 104/5000\n",
      "28/28 [==============================] - 0s 8ms/step - loss: 1.2341e-08 - accuracy: 1.0000 - val_loss: 0.1538 - val_accuracy: 0.9603\n",
      "Epoch 105/5000\n",
      "28/28 [==============================] - 0s 9ms/step - loss: 8.0015e-09 - accuracy: 1.0000 - val_loss: 0.1523 - val_accuracy: 0.9603\n",
      "Epoch 106/5000\n",
      "28/28 [==============================] - 0s 3ms/step - loss: 7.5947e-09 - accuracy: 1.0000 - val_loss: 0.1593 - val_accuracy: 0.9603\n",
      "Epoch 107/5000\n",
      "28/28 [==============================] - 0s 3ms/step - loss: 5.0179e-09 - accuracy: 1.0000 - val_loss: 0.1633 - val_accuracy: 0.9603\n",
      "Epoch 108/5000\n",
      "28/28 [==============================] - 0s 3ms/step - loss: 4.6111e-09 - accuracy: 1.0000 - val_loss: 0.1787 - val_accuracy: 0.9603\n",
      "Epoch 109/5000\n",
      "28/28 [==============================] - 0s 3ms/step - loss: 2.8480e-09 - accuracy: 1.0000 - val_loss: 0.1591 - val_accuracy: 0.9603\n",
      "Epoch 110/5000\n",
      "28/28 [==============================] - 0s 3ms/step - loss: 1.6274e-09 - accuracy: 1.0000 - val_loss: 0.1617 - val_accuracy: 0.9603\n",
      "Epoch 111/5000\n",
      "28/28 [==============================] - 0s 3ms/step - loss: 2.8480e-09 - accuracy: 1.0000 - val_loss: 0.1613 - val_accuracy: 0.9603\n",
      "Epoch 112/5000\n",
      "28/28 [==============================] - 0s 3ms/step - loss: 1.4918e-09 - accuracy: 1.0000 - val_loss: 0.1590 - val_accuracy: 0.9603\n",
      "Epoch 113/5000\n",
      "28/28 [==============================] - 0s 3ms/step - loss: 1.6274e-09 - accuracy: 1.0000 - val_loss: 0.1579 - val_accuracy: 0.9603\n",
      "Epoch 114/5000\n",
      "28/28 [==============================] - 0s 4ms/step - loss: 2.1699e-09 - accuracy: 1.0000 - val_loss: 0.1543 - val_accuracy: 0.9656\n",
      "Epoch 115/5000\n",
      "28/28 [==============================] - 0s 3ms/step - loss: 2.0343e-09 - accuracy: 1.0000 - val_loss: 0.1576 - val_accuracy: 0.9577\n",
      "Epoch 116/5000\n",
      "28/28 [==============================] - 0s 3ms/step - loss: 1.7630e-09 - accuracy: 1.0000 - val_loss: 0.1667 - val_accuracy: 0.9603\n",
      "Epoch 117/5000\n",
      "28/28 [==============================] - 0s 3ms/step - loss: 1.4918e-09 - accuracy: 1.0000 - val_loss: 0.1643 - val_accuracy: 0.9603\n",
      "Epoch 118/5000\n",
      "28/28 [==============================] - 0s 3ms/step - loss: 1.0850e-09 - accuracy: 1.0000 - val_loss: 0.1612 - val_accuracy: 0.9603\n",
      "Epoch 119/5000\n",
      "28/28 [==============================] - 0s 3ms/step - loss: 1.0850e-09 - accuracy: 1.0000 - val_loss: 0.1568 - val_accuracy: 0.9603\n",
      "Epoch 120/5000\n",
      "28/28 [==============================] - 0s 3ms/step - loss: 1.8987e-09 - accuracy: 1.0000 - val_loss: 0.1560 - val_accuracy: 0.9603\n",
      "Epoch 121/5000\n",
      "28/28 [==============================] - 0s 3ms/step - loss: 1.3562e-09 - accuracy: 1.0000 - val_loss: 0.1681 - val_accuracy: 0.9603\n",
      "Epoch 122/5000\n",
      "28/28 [==============================] - 0s 3ms/step - loss: 8.1372e-10 - accuracy: 1.0000 - val_loss: 0.1632 - val_accuracy: 0.9603\n",
      "Epoch 123/5000\n",
      "28/28 [==============================] - 0s 3ms/step - loss: 1.2206e-09 - accuracy: 1.0000 - val_loss: 0.1684 - val_accuracy: 0.9603\n",
      "Epoch 124/5000\n",
      "28/28 [==============================] - 0s 3ms/step - loss: 8.1372e-10 - accuracy: 1.0000 - val_loss: 0.1724 - val_accuracy: 0.9603\n",
      "Epoch 125/5000\n",
      "28/28 [==============================] - 0s 3ms/step - loss: 1.3562e-09 - accuracy: 1.0000 - val_loss: 0.1691 - val_accuracy: 0.9603\n",
      "Epoch 126/5000\n",
      "28/28 [==============================] - 0s 3ms/step - loss: 8.1372e-10 - accuracy: 1.0000 - val_loss: 0.1679 - val_accuracy: 0.9630\n",
      "Epoch 127/5000\n",
      "28/28 [==============================] - 0s 3ms/step - loss: 9.4933e-10 - accuracy: 1.0000 - val_loss: 0.1709 - val_accuracy: 0.9603\n",
      "Epoch 128/5000\n",
      "28/28 [==============================] - 0s 3ms/step - loss: 1.0850e-09 - accuracy: 1.0000 - val_loss: 0.1711 - val_accuracy: 0.9603\n",
      "Epoch 129/5000\n",
      "28/28 [==============================] - 0s 3ms/step - loss: 1.6274e-09 - accuracy: 1.0000 - val_loss: 0.1759 - val_accuracy: 0.9630\n",
      "Epoch 130/5000\n",
      "28/28 [==============================] - 0s 3ms/step - loss: 1.3562e-09 - accuracy: 1.0000 - val_loss: 0.1746 - val_accuracy: 0.9630\n",
      "Epoch 131/5000\n",
      "28/28 [==============================] - 0s 3ms/step - loss: 2.0343e-09 - accuracy: 1.0000 - val_loss: 0.1759 - val_accuracy: 0.9603\n",
      "Epoch 132/5000\n",
      "28/28 [==============================] - 0s 4ms/step - loss: 6.7810e-10 - accuracy: 1.0000 - val_loss: 0.1849 - val_accuracy: 0.9603\n",
      "Epoch 00132: early stopping\n",
      "CPU times: user 20.7 s, sys: 1.39 s, total: 22.1 s\n",
      "Wall time: 14.1 s\n"
     ]
    }
   ],
   "source": [
    "%%time\n",
    "log = model.fit(X_train, Y_train, epochs=5000, batch_size=32, verbose=True,\n",
    "                callbacks=[keras.callbacks.EarlyStopping(monitor='val_loss', \n",
    "                                                         min_delta=0, patience=100, \n",
    "                                                         verbose=1)],\n",
    "         validation_data=(X_valid, Y_valid))"
   ]
  },
  {
   "cell_type": "code",
   "execution_count": 43,
   "metadata": {},
   "outputs": [
    {
     "data": {
      "image/png": "[encoded data removed]",
      "text/plain": [
       "<Figure size 432x288 with 1 Axes>"
      ]
     },
     "metadata": {
      "needs_background": "light"
     },
     "output_type": "display_data"
    }
   ],
   "source": [
    "# グラフ表示\n",
    "plt.plot(log.history['loss'], label='loss')\n",
    "plt.plot(log.history['val_loss'], label='val_loss')\n",
    "plt.legend(frameon=False) # 凡例の表示\n",
    "plt.xlabel(\"epochs\")\n",
    "plt.ylabel(\"crossentropy\")\n",
    "plt.show()"
   ]
  },
  {
   "cell_type": "code",
   "execution_count": 44,
   "metadata": {},
   "outputs": [],
   "source": [
    "# 予測\n",
    "Y_pred = np.argmax(model.predict(X_test), axis=1)"
   ]
  },
  {
   "cell_type": "code",
   "execution_count": 45,
   "metadata": {},
   "outputs": [],
   "source": [
    "# カテゴリー変数の復元\n",
    "Y_test_ = np.argmax(Y_test, axis=1)"
   ]
  },
  {
   "cell_type": "code",
   "execution_count": 46,
   "metadata": {},
   "outputs": [
    {
     "name": "stdout",
     "output_type": "stream",
     "text": [
      "              precision    recall  f1-score   support\n",
      "\n",
      "           0       0.00      0.00      0.00        45\n",
      "           1       0.00      0.00      0.00        52\n",
      "           2       0.00      0.00      0.00        53\n",
      "           3       0.00      0.00      0.00        54\n",
      "           4       0.00      0.00      0.00        48\n",
      "           5       0.00      0.00      0.00        57\n",
      "           6       0.00      0.00      0.00        60\n",
      "           7       0.00      0.00      0.00        53\n",
      "           8       0.00      0.00      0.00        61\n",
      "           9       0.11      1.00      0.19        57\n",
      "\n",
      "    accuracy                           0.11       540\n",
      "   macro avg       0.01      0.10      0.02       540\n",
      "weighted avg       0.01      0.11      0.02       540\n",
      "\n"
     ]
    }
   ],
   "source": [
    "# モデルの評価\n",
    "from sklearn.metrics import classification_report\n",
    "\n",
    "print(classification_report(Y_test_, Y_pred))"
   ]
  }
 ],
 "metadata": {
  "kernelspec": {
   "display_name": "Python 3 (ipykernel)",
   "language": "python",
   "name": "python3"
  },
  "language_info": {
   "codemirror_mode": {
    "name": "ipython",
    "version": 3
   },
   "file_extension": ".py",
   "mimetype": "text/x-python",
   "name": "python",
   "nbconvert_exporter": "python",
   "pygments_lexer": "ipython3",
   "version": "3.8.3"
  }
 },
 "nbformat": 4,
 "nbformat_minor": 4
}
