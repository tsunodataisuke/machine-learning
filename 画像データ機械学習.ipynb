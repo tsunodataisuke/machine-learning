{
 "cells": [
  {
   "cell_type": "markdown",
   "metadata": {},
   "source": [
    "# 画像データの機械学習"
   ]
  },
  {
   "cell_type": "code",
   "execution_count": 1,
   "metadata": {},
   "outputs": [],
   "source": [
    "import warnings\n",
    "warnings.filterwarnings('ignore')"
   ]
  },
  {
   "cell_type": "code",
   "execution_count": 2,
   "metadata": {},
   "outputs": [],
   "source": [
    "import numpy as np\n",
    "import matplotlib.pyplot as plt\n",
    "import pandas as pd\n",
    "\n",
    "from sklearn import datasets\n",
    "\n",
    "%matplotlib inline\n",
    "pd.options.display.max_columns = None"
   ]
  },
  {
   "cell_type": "code",
   "execution_count": 3,
   "metadata": {},
   "outputs": [],
   "source": [
    "digits = datasets.load_digits()"
   ]
  },
  {
   "cell_type": "code",
   "execution_count": 4,
   "metadata": {},
   "outputs": [
    {
     "data": {
      "text/plain": [
       "dict_keys(['data', 'target', 'frame', 'feature_names', 'target_names', 'images', 'DESCR'])"
      ]
     },
     "execution_count": 4,
     "metadata": {},
     "output_type": "execute_result"
    }
   ],
   "source": [
    "digits.keys()"
   ]
  },
  {
   "cell_type": "code",
   "execution_count": 5,
   "metadata": {},
   "outputs": [
    {
     "data": {
      "text/plain": [
       "(1797, 64)"
      ]
     },
     "execution_count": 5,
     "metadata": {},
     "output_type": "execute_result"
    }
   ],
   "source": [
    "digits['data'].shape"
   ]
  },
  {
   "cell_type": "code",
   "execution_count": 6,
   "metadata": {},
   "outputs": [
    {
     "data": {
      "text/plain": [
       "array([[ 0.,  0.,  5., 13.,  9.,  1.,  0.,  0.],\n",
       "       [ 0.,  0., 13., 15., 10., 15.,  5.,  0.],\n",
       "       [ 0.,  3., 15.,  2.,  0., 11.,  8.,  0.],\n",
       "       [ 0.,  4., 12.,  0.,  0.,  8.,  8.,  0.],\n",
       "       [ 0.,  5.,  8.,  0.,  0.,  9.,  8.,  0.],\n",
       "       [ 0.,  4., 11.,  0.,  1., 12.,  7.,  0.],\n",
       "       [ 0.,  2., 14.,  5., 10., 12.,  0.,  0.],\n",
       "       [ 0.,  0.,  6., 13., 10.,  0.,  0.,  0.]])"
      ]
     },
     "execution_count": 6,
     "metadata": {},
     "output_type": "execute_result"
    }
   ],
   "source": [
    "temp = digits['data'][0]\n",
    "# 8x8にreshape\n",
    "temp = temp.reshape(8,8)\n",
    "temp"
   ]
  },
  {
   "cell_type": "code",
   "execution_count": 7,
   "metadata": {},
   "outputs": [
    {
     "data": {
      "text/plain": [
       "<matplotlib.image.AxesImage at 0x7f90bcf8b1c0>"
      ]
     },
     "execution_count": 7,
     "metadata": {},
     "output_type": "execute_result"
    },
    {
     "data": {
      "image/png": "[encoded data removed]",
      "text/plain": [
       "<Figure size 432x288 with 1 Axes>"
      ]
     },
     "metadata": {
      "needs_background": "light"
     },
     "output_type": "display_data"
    }
   ],
   "source": [
    "# 画像化\n",
    "plt.imshow(temp, cmap='Greys')"
   ]
  },
  {
   "cell_type": "code",
   "execution_count": 8,
   "metadata": {},
   "outputs": [
    {
     "data": {
      "text/plain": [
       "0"
      ]
     },
     "execution_count": 8,
     "metadata": {},
     "output_type": "execute_result"
    }
   ],
   "source": [
    "# 対応する目的変数を確認\n",
    "digits['target'][0]"
   ]
  },
  {
   "cell_type": "code",
   "execution_count": 9,
   "metadata": {},
   "outputs": [],
   "source": [
    "Y = np.array(digits['target'])\n",
    "X = np.array(digits['data'])"
   ]
  },
  {
   "cell_type": "code",
   "execution_count": 10,
   "metadata": {},
   "outputs": [
    {
     "name": "stdout",
     "output_type": "stream",
     "text": [
      "(1797,)\n",
      "(1797, 64)\n"
     ]
    }
   ],
   "source": [
    "print(Y.shape)\n",
    "print(X.shape)"
   ]
  },
  {
   "cell_type": "code",
   "execution_count": 11,
   "metadata": {},
   "outputs": [],
   "source": [
    "from sklearn.linear_model import LogisticRegression\n",
    "from sklearn.model_selection import train_test_split\n",
    "from sklearn.metrics import classification_report"
   ]
  },
  {
   "cell_type": "code",
   "execution_count": 12,
   "metadata": {},
   "outputs": [],
   "source": [
    "X_train, X_test, Y_train, Y_test = train_test_split(X, Y, test_size=0.3, random_state=0)\n",
    "X_train, X_valid, Y_train, Y_valid = train_test_split(X_train, Y_train, test_size=0.3, random_state=0)"
   ]
  },
  {
   "cell_type": "code",
   "execution_count": 13,
   "metadata": {},
   "outputs": [
    {
     "name": "stdout",
     "output_type": "stream",
     "text": [
      "              precision    recall  f1-score   support\n",
      "\n",
      "           0       1.00      1.00      1.00        35\n",
      "           1       0.90      0.97      0.94        38\n",
      "           2       1.00      1.00      1.00        32\n",
      "           3       0.95      1.00      0.97        36\n",
      "           4       0.95      0.98      0.96        53\n",
      "           5       1.00      0.93      0.97        45\n",
      "           6       0.97      0.97      0.97        33\n",
      "           7       1.00      1.00      1.00        40\n",
      "           8       0.90      0.84      0.87        31\n",
      "           9       1.00      0.94      0.97        35\n",
      "\n",
      "    accuracy                           0.97       378\n",
      "   macro avg       0.97      0.96      0.96       378\n",
      "weighted avg       0.97      0.97      0.97       378\n",
      "\n"
     ]
    }
   ],
   "source": [
    "normal_model = LogisticRegression(solver='lbfgs', multi_class='multinomial', max_iter=3000)\n",
    "normal_model.fit(X_train, Y_train)\n",
    "Y_pred = normal_model.predict(X_valid)\n",
    "\n",
    "# モデルの評価\n",
    "print(classification_report(Y_valid, Y_pred))"
   ]
  },
  {
   "cell_type": "code",
   "execution_count": 14,
   "metadata": {},
   "outputs": [
    {
     "name": "stdout",
     "output_type": "stream",
     "text": [
      "              precision    recall  f1-score   support\n",
      "\n",
      "           0       1.00      1.00      1.00        45\n",
      "           1       0.89      0.96      0.93        52\n",
      "           2       0.98      0.94      0.96        53\n",
      "           3       0.95      0.96      0.95        54\n",
      "           4       0.96      0.98      0.97        48\n",
      "           5       0.98      0.95      0.96        57\n",
      "           6       0.95      0.98      0.97        60\n",
      "           7       0.98      0.94      0.96        53\n",
      "           8       0.95      0.89      0.92        61\n",
      "           9       0.93      0.96      0.95        57\n",
      "\n",
      "    accuracy                           0.96       540\n",
      "   macro avg       0.96      0.96      0.96       540\n",
      "weighted avg       0.96      0.96      0.96       540\n",
      "\n"
     ]
    }
   ],
   "source": [
    "# テストデータによる評価\n",
    "Y_pred = normal_model.predict(X_test)\n",
    "\n",
    "print(classification_report(Y_test, Y_pred))"
   ]
  },
  {
   "cell_type": "code",
   "execution_count": 15,
   "metadata": {},
   "outputs": [
    {
     "data": {
      "text/plain": [
       "(10, 64)"
      ]
     },
     "execution_count": 15,
     "metadata": {},
     "output_type": "execute_result"
    }
   ],
   "source": [
    "# 学習後のパラメータを取得\n",
    "coefs = normal_model.coef_\n",
    "\n",
    "coefs.shape"
   ]
  },
  {
   "cell_type": "code",
   "execution_count": 16,
   "metadata": {},
   "outputs": [
    {
     "data": {
      "image/png": "[encoded data removed]",
      "text/plain": [
       "<Figure size 576x288 with 10 Axes>"
      ]
     },
     "metadata": {},
     "output_type": "display_data"
    }
   ],
   "source": [
    "# パラメータ(coef_)を画像として出力\n",
    "\n",
    "# 2行5列にグラフを分割\n",
    "fig, ax = plt.subplots(2, 5, figsize=(8, 4))\n",
    "\n",
    "for i in range(2):\n",
    "    for j in range(5):\n",
    "        # zは左上から数えたグラフの描画位置\n",
    "        z = i * 5 + j\n",
    "\n",
    "        # 行=i、列=jの位置に画像を描画する\n",
    "        ax[i, j].imshow(coefs[z].reshape(8,8), cmap='viridis')\n",
    "\n",
    "        # 目盛を表示しない設定\n",
    "        ax[i, j].tick_params(left=False, labelleft=False, bottom=False, labelbottom=False)\n",
    "\n",
    "        # タイトルに数値を\n",
    "        ax[i, j].set_title(z)\n",
    "\n",
    "plt.show()"
   ]
  },
  {
   "cell_type": "markdown",
   "metadata": {},
   "source": [
    "# 主成分分析(PCA)"
   ]
  },
  {
   "cell_type": "code",
   "execution_count": 17,
   "metadata": {},
   "outputs": [],
   "source": [
    "from sklearn.decomposition import PCA"
   ]
  },
  {
   "cell_type": "code",
   "execution_count": 18,
   "metadata": {},
   "outputs": [],
   "source": [
    "# 64個の説明変数を8個に主成分分析\n",
    "pca = PCA(n_components=8).fit(X)"
   ]
  },
  {
   "cell_type": "code",
   "execution_count": 19,
   "metadata": {},
   "outputs": [],
   "source": [
    "# 主成分分析した結果を基にデータ変換を行い成分を取得\n",
    "X2 = pca.fit_transform(X)"
   ]
  },
  {
   "cell_type": "code",
   "execution_count": 39,
   "metadata": {},
   "outputs": [
    {
     "name": "stdout",
     "output_type": "stream",
     "text": [
      "X:  (1797, 64)\n",
      "X2: (1797, 8)\n"
     ]
    }
   ],
   "source": [
    "print(\"X: \", X.shape)\n",
    "print(\"X2:\", X2.shape)"
   ]
  },
  {
   "cell_type": "code",
   "execution_count": 40,
   "metadata": {},
   "outputs": [],
   "source": [
    "X_train, X_test, Y_train, Y_test = train_test_split(X2, Y, test_size=0.3, random_state=0)\n",
    "X_train, X_valid, Y_train, Y_valid = train_test_split(X_train, Y_train, test_size=0.3, random_state=0)"
   ]
  },
  {
   "cell_type": "code",
   "execution_count": 41,
   "metadata": {},
   "outputs": [
    {
     "name": "stdout",
     "output_type": "stream",
     "text": [
      "              precision    recall  f1-score   support\n",
      "\n",
      "           0       0.95      1.00      0.97        35\n",
      "           1       0.80      0.87      0.84        38\n",
      "           2       1.00      1.00      1.00        32\n",
      "           3       0.79      0.75      0.77        36\n",
      "           4       0.94      0.92      0.93        53\n",
      "           5       0.95      0.91      0.93        45\n",
      "           6       1.00      0.97      0.98        33\n",
      "           7       0.95      1.00      0.98        40\n",
      "           8       0.77      0.65      0.70        31\n",
      "           9       0.72      0.80      0.76        35\n",
      "\n",
      "    accuracy                           0.89       378\n",
      "   macro avg       0.89      0.89      0.89       378\n",
      "weighted avg       0.89      0.89      0.89       378\n",
      "\n"
     ]
    }
   ],
   "source": [
    "pca_model = LogisticRegression(solver='lbfgs', multi_class='multinomial', max_iter=3000)\n",
    "pca_model.fit(X_train, Y_train)\n",
    "Y_pred = pca_model.predict(X_valid)\n",
    "\n",
    "# モデルの評価\n",
    "print(classification_report(Y_valid, Y_pred))"
   ]
  },
  {
   "cell_type": "code",
   "execution_count": 23,
   "metadata": {},
   "outputs": [
    {
     "name": "stdout",
     "output_type": "stream",
     "text": [
      "              precision    recall  f1-score   support\n",
      "\n",
      "           0       0.98      1.00      0.99        45\n",
      "           1       0.85      0.90      0.88        52\n",
      "           2       0.98      0.92      0.95        53\n",
      "           3       0.83      0.83      0.83        54\n",
      "           4       0.89      0.98      0.93        48\n",
      "           5       0.91      0.86      0.88        57\n",
      "           6       0.97      0.98      0.98        60\n",
      "           7       0.92      0.91      0.91        53\n",
      "           8       0.77      0.70      0.74        61\n",
      "           9       0.75      0.77      0.76        57\n",
      "\n",
      "    accuracy                           0.88       540\n",
      "   macro avg       0.88      0.89      0.88       540\n",
      "weighted avg       0.88      0.88      0.88       540\n",
      "\n"
     ]
    }
   ],
   "source": [
    "# テストデータによる評価\n",
    "Y_pred = pca_model.predict(X_test)\n",
    "\n",
    "print(classification_report(Y_test, Y_pred))"
   ]
  },
  {
   "cell_type": "markdown",
   "metadata": {},
   "source": [
    "## モデルの考察"
   ]
  },
  {
   "cell_type": "code",
   "execution_count": 24,
   "metadata": {},
   "outputs": [
    {
     "data": {
      "text/plain": [
       "(8, 64)"
      ]
     },
     "execution_count": 24,
     "metadata": {},
     "output_type": "execute_result"
    }
   ],
   "source": [
    "# PCAのパラメータを取得\n",
    "comps= pca.components_\n",
    "\n",
    "comps.shape"
   ]
  },
  {
   "cell_type": "code",
   "execution_count": 42,
   "metadata": {},
   "outputs": [
    {
     "data": {
      "image/png": "[encoded data removed]",
      "text/plain": [
       "<Figure size 864x216 with 8 Axes>"
      ]
     },
     "metadata": {},
     "output_type": "display_data"
    }
   ],
   "source": [
    "fig, ax = plt.subplots(1, 8, figsize=(12, 3))\n",
    "\n",
    "for i in range(8):\n",
    "    ax[i].imshow(comps[i].reshape(8,8), cmap='viridis')\n",
    "    ax[i].tick_params(left=False, labelleft=False, bottom=False, labelbottom=False)\n",
    "    ax[i].set_title(f\"PCA{i+1}\")\n",
    "\n",
    "plt.show()"
   ]
  },
  {
   "cell_type": "code",
   "execution_count": 26,
   "metadata": {},
   "outputs": [
    {
     "data": {
      "text/plain": [
       "(10, 8)"
      ]
     },
     "execution_count": 26,
     "metadata": {},
     "output_type": "execute_result"
    }
   ],
   "source": [
    "# 学習後のパラメータを取得\n",
    "coefs = pca_model.coef_\n",
    "\n",
    "coefs.shape"
   ]
  },
  {
   "cell_type": "code",
   "execution_count": 27,
   "metadata": {},
   "outputs": [
    {
     "data": {
      "image/png": "[encoded data removed]",
      "text/plain": [
       "<Figure size 576x288 with 10 Axes>"
      ]
     },
     "metadata": {},
     "output_type": "display_data"
    }
   ],
   "source": [
    "# パラメータ(coef_)を画像として出力\n",
    "\n",
    "# 2行5列にグラフを分割\n",
    "fig, ax = plt.subplots(2, 5, figsize=(8, 4))\n",
    "\n",
    "for i in range(2):\n",
    "    for j in range(5):\n",
    "        # zは左上から数えたグラフの描画位置\n",
    "        z = i * 5 + j\n",
    "\n",
    "        # 行=i、列=jの位置に画像を描画する\n",
    "        ax[i, j].imshow(coefs[z].reshape(8, 1), cmap='viridis')\n",
    "\n",
    "        # 目盛を表示しない設定\n",
    "        ax[i, j].tick_params(left=False, labelleft=False, bottom=False, labelbottom=False)\n",
    "\n",
    "        # タイトルに数値を\n",
    "        ax[i, j].set_title(z)\n",
    "\n",
    "plt.show()"
   ]
  },
  {
   "cell_type": "markdown",
   "metadata": {},
   "source": [
    "# クラスタリングによる分類"
   ]
  },
  {
   "cell_type": "code",
   "execution_count": 28,
   "metadata": {},
   "outputs": [],
   "source": [
    "from sklearn.cluster import KMeans"
   ]
  },
  {
   "cell_type": "code",
   "execution_count": 29,
   "metadata": {},
   "outputs": [],
   "source": [
    "X_train, X_test, Y_train, Y_test = train_test_split(X, Y, test_size=0.3, random_state=0)"
   ]
  },
  {
   "cell_type": "code",
   "execution_count": 30,
   "metadata": {},
   "outputs": [
    {
     "data": {
      "text/plain": [
       "KMeans(n_clusters=10, n_init=30, random_state=0)"
      ]
     },
     "execution_count": 30,
     "metadata": {},
     "output_type": "execute_result"
    }
   ],
   "source": [
    "kmeans_model = KMeans(n_clusters=10, init='k-means++', n_init=30, random_state=0)\n",
    "kmeans_model.fit(X_train)"
   ]
  },
  {
   "cell_type": "code",
   "execution_count": 31,
   "metadata": {},
   "outputs": [
    {
     "data": {
      "text/plain": [
       "array([2, 3, 4, ..., 2, 2, 7], dtype=int32)"
      ]
     },
     "execution_count": 31,
     "metadata": {},
     "output_type": "execute_result"
    }
   ],
   "source": [
    "# クラスタ番号を取得\n",
    "Y_pred = kmeans_model.predict(X_train)\n",
    "Y_pred"
   ]
  },
  {
   "cell_type": "code",
   "execution_count": 32,
   "metadata": {},
   "outputs": [
    {
     "name": "stdout",
     "output_type": "stream",
     "text": [
      "[(2, 102), (1, 14), (8, 3)]\n",
      "[(0, 131), (6, 1)]\n",
      "[(7, 118), (9, 7), (3, 6), (4, 6), (2, 1), (8, 1)]\n",
      "[(3, 112), (9, 95), (5, 28), (2, 7), (8, 3), (1, 1)]\n",
      "[(6, 117), (1, 2), (8, 1)]\n",
      "[(4, 122), (5, 3), (0, 2)]\n",
      "[(1, 32), (9, 17), (7, 7), (8, 6), (4, 2)]\n",
      "[(8, 88), (2, 14), (3, 8), (9, 2), (6, 1), (4, 1), (7, 1)]\n",
      "[(1, 81), (8, 8), (6, 2), (4, 2)]\n",
      "[(5, 94), (3, 3), (8, 3), (9, 2)]\n"
     ]
    }
   ],
   "source": [
    "# クラスタ番号を数値に変換する表の作成\n",
    "import collections\n",
    "\n",
    "corr_table = []\n",
    "\n",
    "for i in range(10):\n",
    "    # クラスタ番号i番目のY_trainを取得\n",
    "    count = collections.Counter(Y_train[Y_pred == i])\n",
    "    # Y_trainの中で多数決で数値を決める\n",
    "    print(count.most_common())\n",
    "    corr_table.append(count.most_common()[0][0])"
   ]
  },
  {
   "cell_type": "code",
   "execution_count": 33,
   "metadata": {},
   "outputs": [
    {
     "data": {
      "text/plain": [
       "[2, 0, 7, 3, 6, 4, 1, 8, 1, 9]"
      ]
     },
     "execution_count": 33,
     "metadata": {},
     "output_type": "execute_result"
    }
   ],
   "source": [
    "# 同じ数値が重複した場合は、2位の数値を設定\n",
    "corr_table[9] = 9\n",
    "corr_table"
   ]
  },
  {
   "cell_type": "code",
   "execution_count": 34,
   "metadata": {},
   "outputs": [
    {
     "name": "stdout",
     "output_type": "stream",
     "text": [
      "              precision    recall  f1-score   support\n",
      "\n",
      "           0       0.99      0.98      0.99       133\n",
      "           1       0.72      0.87      0.79       130\n",
      "           2       0.86      0.82      0.84       124\n",
      "           3       0.46      0.87      0.60       129\n",
      "           4       0.96      0.92      0.94       133\n",
      "           5       0.00      0.00      0.00       125\n",
      "           6       0.97      0.97      0.97       121\n",
      "           7       0.85      0.94      0.89       126\n",
      "           8       0.77      0.78      0.77       113\n",
      "           9       0.02      0.02      0.02       123\n",
      "\n",
      "    accuracy                           0.72      1257\n",
      "   macro avg       0.66      0.72      0.68      1257\n",
      "weighted avg       0.66      0.72      0.68      1257\n",
      "\n"
     ]
    }
   ],
   "source": [
    "# クラスタ番号を数値に変換\n",
    "Y_pred2 = []\n",
    "for i in Y_pred:\n",
    "    Y_pred2.append(corr_table[i])\n",
    "\n",
    "# モデルの評価\n",
    "print(classification_report(Y_train, Y_pred2))"
   ]
  }
 ],
 "metadata": {
  "kernelspec": {
   "display_name": "Python 3 (ipykernel)",
   "language": "python",
   "name": "python3"
  },
  "language_info": {
   "codemirror_mode": {
    "name": "ipython",
    "version": 3
   },
   "file_extension": ".py",
   "mimetype": "text/x-python",
   "name": "python",
   "nbconvert_exporter": "python",
   "pygments_lexer": "ipython3",
   "version": "3.8.3"
  }
 },
 "nbformat": 4,
 "nbformat_minor": 4
}
